{
  "nbformat": 4,
  "nbformat_minor": 0,
  "metadata": {
    "colab": {
      "provenance": [],
      "gpuType": "T4"
    },
    "kernelspec": {
      "name": "python3",
      "display_name": "Python 3"
    },
    "language_info": {
      "name": "python"
    },
    "accelerator": "GPU"
  },
  "cells": [
    {
      "cell_type": "markdown",
      "source": [
        "# Installing Required Packages"
      ],
      "metadata": {
        "id": "sTKEnm0ggC-H"
      }
    },
    {
      "cell_type": "code",
      "execution_count": 1,
      "metadata": {
        "colab": {
          "base_uri": "https://localhost:8080/"
        },
        "id": "gTFUeTLEcitx",
        "outputId": "966592bd-b7f9-418d-a9e1-33c83fca6921"
      },
      "outputs": [
        {
          "output_type": "stream",
          "name": "stdout",
          "text": [
            "Requirement already satisfied: sentence-transformers in /usr/local/lib/python3.10/dist-packages (3.2.1)\n",
            "Requirement already satisfied: torch in /usr/local/lib/python3.10/dist-packages (2.5.1+cu121)\n",
            "Requirement already satisfied: transformers<5.0.0,>=4.41.0 in /usr/local/lib/python3.10/dist-packages (from sentence-transformers) (4.46.2)\n",
            "Requirement already satisfied: tqdm in /usr/local/lib/python3.10/dist-packages (from sentence-transformers) (4.66.6)\n",
            "Requirement already satisfied: scikit-learn in /usr/local/lib/python3.10/dist-packages (from sentence-transformers) (1.5.2)\n",
            "Requirement already satisfied: scipy in /usr/local/lib/python3.10/dist-packages (from sentence-transformers) (1.13.1)\n",
            "Requirement already satisfied: huggingface-hub>=0.20.0 in /usr/local/lib/python3.10/dist-packages (from sentence-transformers) (0.26.2)\n",
            "Requirement already satisfied: Pillow in /usr/local/lib/python3.10/dist-packages (from sentence-transformers) (11.0.0)\n",
            "Requirement already satisfied: filelock in /usr/local/lib/python3.10/dist-packages (from torch) (3.16.1)\n",
            "Requirement already satisfied: typing-extensions>=4.8.0 in /usr/local/lib/python3.10/dist-packages (from torch) (4.12.2)\n",
            "Requirement already satisfied: networkx in /usr/local/lib/python3.10/dist-packages (from torch) (3.4.2)\n",
            "Requirement already satisfied: jinja2 in /usr/local/lib/python3.10/dist-packages (from torch) (3.1.4)\n",
            "Requirement already satisfied: fsspec in /usr/local/lib/python3.10/dist-packages (from torch) (2024.10.0)\n",
            "Requirement already satisfied: sympy==1.13.1 in /usr/local/lib/python3.10/dist-packages (from torch) (1.13.1)\n",
            "Requirement already satisfied: mpmath<1.4,>=1.1.0 in /usr/local/lib/python3.10/dist-packages (from sympy==1.13.1->torch) (1.3.0)\n",
            "Requirement already satisfied: packaging>=20.9 in /usr/local/lib/python3.10/dist-packages (from huggingface-hub>=0.20.0->sentence-transformers) (24.2)\n",
            "Requirement already satisfied: pyyaml>=5.1 in /usr/local/lib/python3.10/dist-packages (from huggingface-hub>=0.20.0->sentence-transformers) (6.0.2)\n",
            "Requirement already satisfied: requests in /usr/local/lib/python3.10/dist-packages (from huggingface-hub>=0.20.0->sentence-transformers) (2.32.3)\n",
            "Requirement already satisfied: numpy>=1.17 in /usr/local/lib/python3.10/dist-packages (from transformers<5.0.0,>=4.41.0->sentence-transformers) (1.26.4)\n",
            "Requirement already satisfied: regex!=2019.12.17 in /usr/local/lib/python3.10/dist-packages (from transformers<5.0.0,>=4.41.0->sentence-transformers) (2024.9.11)\n",
            "Requirement already satisfied: safetensors>=0.4.1 in /usr/local/lib/python3.10/dist-packages (from transformers<5.0.0,>=4.41.0->sentence-transformers) (0.4.5)\n",
            "Requirement already satisfied: tokenizers<0.21,>=0.20 in /usr/local/lib/python3.10/dist-packages (from transformers<5.0.0,>=4.41.0->sentence-transformers) (0.20.3)\n",
            "Requirement already satisfied: MarkupSafe>=2.0 in /usr/local/lib/python3.10/dist-packages (from jinja2->torch) (3.0.2)\n",
            "Requirement already satisfied: joblib>=1.2.0 in /usr/local/lib/python3.10/dist-packages (from scikit-learn->sentence-transformers) (1.4.2)\n",
            "Requirement already satisfied: threadpoolctl>=3.1.0 in /usr/local/lib/python3.10/dist-packages (from scikit-learn->sentence-transformers) (3.5.0)\n",
            "Requirement already satisfied: charset-normalizer<4,>=2 in /usr/local/lib/python3.10/dist-packages (from requests->huggingface-hub>=0.20.0->sentence-transformers) (3.4.0)\n",
            "Requirement already satisfied: idna<4,>=2.5 in /usr/local/lib/python3.10/dist-packages (from requests->huggingface-hub>=0.20.0->sentence-transformers) (3.10)\n",
            "Requirement already satisfied: urllib3<3,>=1.21.1 in /usr/local/lib/python3.10/dist-packages (from requests->huggingface-hub>=0.20.0->sentence-transformers) (2.2.3)\n",
            "Requirement already satisfied: certifi>=2017.4.17 in /usr/local/lib/python3.10/dist-packages (from requests->huggingface-hub>=0.20.0->sentence-transformers) (2024.8.30)\n"
          ]
        }
      ],
      "source": [
        "r'''requirements\n",
        "torch\n",
        "pymongo\n",
        "faiss-gpu\n",
        "sentence-transformers\n",
        "'''\n",
        "!pip install sentence-transformers torch"
      ]
    },
    {
      "cell_type": "code",
      "source": [
        "!pip install pymongo"
      ],
      "metadata": {
        "colab": {
          "base_uri": "https://localhost:8080/"
        },
        "id": "3P7xQBe2fzIX",
        "outputId": "f23b84c8-b3c3-46e5-94ae-5319bbe8d8c2"
      },
      "execution_count": 2,
      "outputs": [
        {
          "output_type": "stream",
          "name": "stdout",
          "text": [
            "Collecting pymongo\n",
            "  Downloading pymongo-4.10.1-cp310-cp310-manylinux_2_17_x86_64.manylinux2014_x86_64.whl.metadata (22 kB)\n",
            "Collecting dnspython<3.0.0,>=1.16.0 (from pymongo)\n",
            "  Downloading dnspython-2.7.0-py3-none-any.whl.metadata (5.8 kB)\n",
            "Downloading pymongo-4.10.1-cp310-cp310-manylinux_2_17_x86_64.manylinux2014_x86_64.whl (1.4 MB)\n",
            "\u001b[?25l   \u001b[90m━━━━━━━━━━━━━━━━━━━━━━━━━━━━━━━━━━━━━━━━\u001b[0m \u001b[32m0.0/1.4 MB\u001b[0m \u001b[31m?\u001b[0m eta \u001b[36m-:--:--\u001b[0m\r\u001b[2K   \u001b[90m━━━━━━━━━━━━━━━━━━━━━━━━━━━━━━━━━━━━━━━━\u001b[0m \u001b[32m1.4/1.4 MB\u001b[0m \u001b[31m44.5 MB/s\u001b[0m eta \u001b[36m0:00:00\u001b[0m\n",
            "\u001b[?25hDownloading dnspython-2.7.0-py3-none-any.whl (313 kB)\n",
            "\u001b[?25l   \u001b[90m━━━━━━━━━━━━━━━━━━━━━━━━━━━━━━━━━━━━━━━━\u001b[0m \u001b[32m0.0/313.6 kB\u001b[0m \u001b[31m?\u001b[0m eta \u001b[36m-:--:--\u001b[0m\r\u001b[2K   \u001b[90m━━━━━━━━━━━━━━━━━━━━━━━━━━━━━━━━━━━━━━━━\u001b[0m \u001b[32m313.6/313.6 kB\u001b[0m \u001b[31m23.3 MB/s\u001b[0m eta \u001b[36m0:00:00\u001b[0m\n",
            "\u001b[?25hInstalling collected packages: dnspython, pymongo\n",
            "Successfully installed dnspython-2.7.0 pymongo-4.10.1\n"
          ]
        }
      ]
    },
    {
      "cell_type": "markdown",
      "source": [
        "# Testing the sentence transformer model"
      ],
      "metadata": {
        "id": "RNSA3t7mg5He"
      }
    },
    {
      "cell_type": "code",
      "source": [
        "from sentence_transformers import SentenceTransformer\n",
        "import torch\n",
        "\n",
        "# Load the model\n",
        "model_name = 'all-MiniLM-L6-v2'\n",
        "model = SentenceTransformer(model_name)\n",
        "\n",
        "# Check if GPU is available and move the model to GPU\n",
        "if torch.cuda.is_available():\n",
        "    device = 'cuda'\n",
        "    model = model.to(device)\n",
        "    print(\"Model moved to GPU\")\n",
        "else:\n",
        "    device = 'cpu'\n",
        "    print(\"Running on CPU\")\n",
        "\n",
        "# Example input\n",
        "sentences = [\"This is a test sentence.\", \"How can I use GPU with Sentence Transformers?\"]\n",
        "\n",
        "# Move inputs to GPU if applicable\n",
        "embeddings = model.encode(sentences, device=device)\n",
        "\n",
        "print(\"Embeddings Shape:\", embeddings.shape)"
      ],
      "metadata": {
        "colab": {
          "base_uri": "https://localhost:8080/"
        },
        "id": "tkDCgqO0gAvP",
        "outputId": "547bdf51-1dbe-4a4e-f3a3-878168351c4a"
      },
      "execution_count": 4,
      "outputs": [
        {
          "output_type": "stream",
          "name": "stdout",
          "text": [
            "Model moved to GPU\n",
            "Embeddings Shape: (2, 384)\n"
          ]
        }
      ]
    },
    {
      "cell_type": "markdown",
      "source": [
        "# Accessing the Databse"
      ],
      "metadata": {
        "id": "vGpCrwnFhsCf"
      }
    },
    {
      "cell_type": "code",
      "source": [
        "import numpy as np"
      ],
      "metadata": {
        "id": "whaerqy-m1TY"
      },
      "execution_count": 20,
      "outputs": []
    },
    {
      "cell_type": "code",
      "source": [
        "from pymongo import MongoClient\n",
        "from google.colab import userdata\n",
        "\n",
        "# Connect to DB\n",
        "client = MongoClient(userdata.get('MongoURI'))\n",
        "# Selecting my database\n",
        "db = client.Cluster0\n",
        "collection = db[\"academics\"]"
      ],
      "metadata": {
        "id": "1HmZXk5xgRDH"
      },
      "execution_count": 9,
      "outputs": []
    },
    {
      "cell_type": "code",
      "source": [
        "ids = []\n",
        "vectors = []\n",
        "for document in collection.find():\n",
        "  vector = np.array(document['vector'])\n",
        "  ids.append(document['_id'])\n",
        "  vectors.append(vector)"
      ],
      "metadata": {
        "id": "Szx8dyfcj7tH"
      },
      "execution_count": 28,
      "outputs": []
    },
    {
      "cell_type": "code",
      "source": [
        "vectors = np.array(vectors, dtype='float32')\n",
        "vectors.shape"
      ],
      "metadata": {
        "colab": {
          "base_uri": "https://localhost:8080/"
        },
        "id": "BMUjBPwuzQ3W",
        "outputId": "7c4c4d0c-5c24-49ba-f816-6c414dcd3f97"
      },
      "execution_count": 40,
      "outputs": [
        {
          "output_type": "execute_result",
          "data": {
            "text/plain": [
              "(108, 384)"
            ]
          },
          "metadata": {},
          "execution_count": 40
        }
      ]
    },
    {
      "cell_type": "code",
      "source": [
        "query = \"Tell me about credits and courses for Electrical Engineering\"\n",
        "query_vector = model.encode(query)"
      ],
      "metadata": {
        "id": "miX8FouFmNov"
      },
      "execution_count": 64,
      "outputs": []
    },
    {
      "cell_type": "markdown",
      "source": [
        "# Implementing Faiss search"
      ],
      "metadata": {
        "id": "2RmIdo7ayRJY"
      }
    },
    {
      "cell_type": "code",
      "source": [
        "!pip install faiss-gpu"
      ],
      "metadata": {
        "colab": {
          "base_uri": "https://localhost:8080/"
        },
        "id": "ERQdPuIMyVEN",
        "outputId": "c900e950-0490-4b8c-98a5-86c2039297ac"
      },
      "execution_count": 37,
      "outputs": [
        {
          "output_type": "stream",
          "name": "stdout",
          "text": [
            "Collecting faiss-gpu\n",
            "  Downloading faiss_gpu-1.7.2-cp310-cp310-manylinux_2_17_x86_64.manylinux2014_x86_64.whl.metadata (1.4 kB)\n",
            "Downloading faiss_gpu-1.7.2-cp310-cp310-manylinux_2_17_x86_64.manylinux2014_x86_64.whl (85.5 MB)\n",
            "\u001b[2K   \u001b[90m━━━━━━━━━━━━━━━━━━━━━━━━━━━━━━━━━━━━━━━━\u001b[0m \u001b[32m85.5/85.5 MB\u001b[0m \u001b[31m9.7 MB/s\u001b[0m eta \u001b[36m0:00:00\u001b[0m\n",
            "\u001b[?25hInstalling collected packages: faiss-gpu\n",
            "Successfully installed faiss-gpu-1.7.2\n"
          ]
        }
      ]
    },
    {
      "cell_type": "code",
      "source": [
        "r'''I have vectors ready along with ids, Now I need to similarity search\n",
        "and then get back the ObjecIds of the documents'''\n",
        "import faiss"
      ],
      "metadata": {
        "id": "P8WAZzP_nmCQ"
      },
      "execution_count": 38,
      "outputs": []
    },
    {
      "cell_type": "code",
      "source": [
        "# Normalize vectors (important for cosine similarity)\n",
        "faiss.normalize_L2(vectors)\n",
        "\n",
        "# 3. Build a FAISS index\n",
        "dimension = vectors.shape[1]  # Assuming vectors are of uniform length\n",
        "index = faiss.IndexFlatIP(dimension)  # Cosine similarity\n",
        "index.add(vectors)\n",
        "\n",
        "# Normalize the query vector\n",
        "faiss.normalize_L2(query_vector.reshape(1, -1))\n",
        "\n",
        "# Conduct similarity search\n",
        "k = 5  # Number of nearest neighbors to retrieve\n",
        "distances, indices = index.search(query_vector.reshape(1, -1), k)\n",
        "\n",
        "# Map indices back to IDs\n",
        "result_ids = [ids[i] for i in indices[0]]\n"
      ],
      "metadata": {
        "id": "mTaB9nRFzEpH"
      },
      "execution_count": 58,
      "outputs": []
    },
    {
      "cell_type": "code",
      "source": [
        "result_ids"
      ],
      "metadata": {
        "colab": {
          "base_uri": "https://localhost:8080/"
        },
        "id": "I6-3tvb9z4Vc",
        "outputId": "00fe113b-8620-4e32-af2e-3c1412645611"
      },
      "execution_count": 59,
      "outputs": [
        {
          "output_type": "execute_result",
          "data": {
            "text/plain": [
              "[ObjectId('66fda043565b107d6c473f3a'),\n",
              " ObjectId('66fda043565b107d6c473f3c'),\n",
              " ObjectId('66fda042565b107d6c473f39'),\n",
              " ObjectId('66fda042565b107d6c473f38'),\n",
              " ObjectId('66fda048565b107d6c473f48')]"
            ]
          },
          "metadata": {},
          "execution_count": 59
        }
      ]
    },
    {
      "cell_type": "code",
      "source": [
        "Context = \"\"\n",
        "pages = []\n",
        "cursor = collection.find({\"_id\": {\"$in\": result_ids}})\n",
        "# Process the cursor as before (iterate or convert to list)\n",
        "for document in cursor:\n",
        "    Context += document['text']\n",
        "    pages.append(document['page_number'])\n",
        "\n",
        "pages = set(pages)"
      ],
      "metadata": {
        "id": "VOUhfT3wz6xp"
      },
      "execution_count": 60,
      "outputs": []
    },
    {
      "cell_type": "code",
      "source": [
        "pages"
      ],
      "metadata": {
        "colab": {
          "base_uri": "https://localhost:8080/"
        },
        "id": "Tdi4yqzZ0wlY",
        "outputId": "4ef297a1-40c1-40fe-eb2f-e90c94166af2"
      },
      "execution_count": 61,
      "outputs": [
        {
          "output_type": "execute_result",
          "data": {
            "text/plain": [
              "{30, 31, 32, 33, 40}"
            ]
          },
          "metadata": {},
          "execution_count": 61
        }
      ]
    },
    {
      "cell_type": "code",
      "source": [
        "Context"
      ],
      "metadata": {
        "colab": {
          "base_uri": "https://localhost:8080/",
          "height": 157
        },
        "id": "UZ4UYkED0yDa",
        "outputId": "4e41a649-5558-46b5-8afd-7ff117ac1f33"
      },
      "execution_count": 62,
      "outputs": [
        {
          "output_type": "execute_result",
          "data": {
            "text/plain": [
              "'Semester 7 Semester 4\\nS.No Course Code Course Description L-T-P-S-C\\nS.No. Course Code Course Description L-T-P-S-C\\n. 1 CS202 Programming Paradigms and Pragmatics 3 -1-2-6-4\\n1 CP302 Capstone Project I 0-0-6-3-3\\n2 CS204 Computer Architecture 3-1-2-6-4\\nELECTIVE COURSES\\n3 MA202 Probability and Statistics 3-1-0-5-3\\n2 An English Language/Literature elective course in\\n4 Human Geography and Societal Needs/ [1-1/3-4-11/3-3]/\\nHSXXX either 7th or 8th sem for students who had 3 Credits HS202 / BM101\\nBiology for Engineers [3-1-0-5-3]\\n“English Language Skills” in 1st Semester\\n5 NCIV/NOIV/NSIV NCC/NSO/NSS 0 -0-2-1-1\\n3 BMXXX/MAXXX\\n6 3-1-0-5-3/\\n/CYXXX/PHXX Science Maths Elective I 3 Credits HS201/ GE108 Economics/Basic Electronics\\n(2-2/3-2-13/3-3)\\nX\\n7 Tinkering Lab/ Introduction to [0 -0-3-3/2-1.5]/\\n4 CEXXX Program Elective I 3 Credits GE107/ GE109\\nEngineering Products [0 -0-2-1-1]\\n5 Anyextra credits taken under HS\\nXXXXX 3 Credits TOTAL CREDITS 19 or 19.5\\nElective/Program Elective/Science Maths Elective\\nTotal Credits 15 Credits Semester 5\\nS .No. Course Code Course Description L-T-P-S-C\\nSemester 8\\n1 CS301 Introduction to Databa ses Systems 3-1-2-6-4\\nS.No Cou rse Code Course Description L-T-P-S-C\\n2 CS302 Analysis and Design of Algorithms 3-1-0-5-3\\n. 3 CS303 Operating Systems 3-1-2-6-4\\n1 CP303 Capstone Project II 0-0-6-3-3\\n4 Human Geography and Societal Needs/ [1-1/3-4-11/3- 3]/\\nELECTIVE C OURSES HS202 / BM101\\nBiology for Engineers [3-1-0-5-3]\\n2 An English Language/Literature ele ctive course in\\n5 Industrial Management/ Introduction to\\nHSXXX either 7th or 8th sem for students who had 3 Credits HS301 / GE111 3-1-0-5-3\\nEnvironmental Science & Engineering\\n“English Language Skills” in 1st Semester\\n6 HS104 Professional Ethics[about 50% students] 1-1/3-1-13/6-1.5\\n3 BMXXX/MAXXX\\nTOTAL CREDITS 17 or 18.5\\n/CYXXX/PHXX Science Maths Elective II 3 Credits\\nX\\nSemester 6\\n4 CEXXX Program Elective II 3 Credits\\nS.No. Course Code Course Description L-T-P-S-C\\n5 Any extracredits taken under HS\\nXXXXX 3 Credits 1 CS 304 Computer Networks 3-1-2-6-4\\nElective/Program Elective/Science Maths Elective\\nTotal Credits 15 Credits\\n2 CS 305 Software Engineerin g 3-1-2-6-4\\nXXXXX denotes Open Elective Course. 3 CS 306 Theory of Computation 3-1-0-5-3\\n4 CP301 Development Engineering Project 0-0-6-3-3\\nGrand Total: 145 5 Industrial Management / Introduction\\nPlease Note: Contents of all the courses are available on www.iitrpr.ac.in as Course HS301 / GE111 to Environmental Science & 3-1-0-5-3\\nbooklet of UG 2021-22, Engineering\\n6 Professional Ethics [about 50%\\n2.7.3 B.TECH. IN COM PUTER SCIENCE AND ENGINEERING HS104 1-1/3-1-13/6-1.5\\nstudents]\\nSemester 3\\nTOTAL CREDITS 17 or 18.5\\nS .No. Course Code Course Description L-T-P-S-C\\n1 CS20 1 Data Structures 3-1-2-6-4\\n2 CS203 Digital Logic Design 3-1-2-6-4 Summer Vacation following Semester 6\\n3 MA201 Differential Equatio ns 3-1-0-5-3 S.No Course Code Course Description L-T-P-S-C\\n4 EE201 Signals and Systems 3-1-0-5-3 . 5 NCIII/NO III/NSIII NCC/NSO/NSS 0 -0-2-1-1 1 Industrial Internship and Comprehensive\\n6 3-1-0-5-3/\\nViva Voce (7 0% weightage for 8-week full\\nII301 0-0-7-3.5-3.5\\nHS201/ GE108 Economics/Basic Electronics\\ninternship and 30% for comprehensive viva\\n(2-2/3-2-13/3-3)\\non program fundamentals)\\n7 Tinkering Lab/ Introduction to [0 -0-3-3/2-1.5]/\\nGE107/ GE109\\nEngineering Product s [0 -0-2-1-1]\\nTotal Credits 3.5\\nTOTAL CREDITS 19 or 19.5\\nIIT ROPAR www.iitrpr.ac.in IIT ROPAR www.iitrpr.ac.in\\n22 23Semester 7 Semester 4\\nS.No Course Code Course Description L-T-P-S-C\\nS.No. Course Code Course Description L-T-P-S-C\\n. 1 CS202 Programming Paradigms and Pragmatics 3 -1-2-6-4\\n1 CP302 Capstone Project I 0-0-6-3-3\\n2 CS204 Computer Architecture 3-1-2-6-4\\nELECTIVE COURSES\\n3 MA202 Probability and Statistics 3-1-0-5-3\\n2 An English Language/Literature elective course in\\n4 Human Geography and Societal Needs/ [1-1/3-4-11/3-3]/\\nHSXXX either 7th or 8th sem for students who had 3 Credits HS202 / BM101\\nBiology for Engineers [3-1-0-5-3]\\n“English Language Skills” in 1st Semester\\n5 NCIV/NOIV/NSIV NCC/NSO/NSS 0 -0-2-1-1\\n3 BMXXX/MAXXX\\n6 3-1-0-5-3/\\n/CYXXX/PHXX Science Maths Elective I 3 Credits HS201/ GE108 Economics/Basic Electronics\\n(2-2/3-2-13/3-3)\\nX\\n7 Tinkering Lab/ Introduction to [0 -0-3-3/2-1.5]/\\n4 CEXXX Program Elective I 3 Credits GE107/ GE109\\nEngineering Products [0 -0-2-1-1]\\n5 Anyextra credits taken under HS\\nXXXXX 3 Credits TOTAL CREDITS 19 or 19.5\\nElective/Program Elective/Science Maths Elective\\nTotal Credits 15 Credits Semester 5\\nS .No. Course Code Course Description L-T-P-S-C\\nSemester 8\\n1 CS301 Introduction to Databa ses Systems 3-1-2-6-4\\nS.No Cou rse Code Course Description L-T-P-S-C\\n2 CS302 Analysis and Design of Algorithms 3-1-0-5-3\\n. 3 CS303 Operating Systems 3-1-2-6-4\\n1 CP303 Capstone Project II 0-0-6-3-3\\n4 Human Geography and Societal Needs/ [1-1/3-4-11/3- 3]/\\nELECTIVE C OURSES HS202 / BM101\\nBiology for Engineers [3-1-0-5-3]\\n2 An English Language/Literature ele ctive course in\\n5 Industrial Management/ Introduction to\\nHSXXX either 7th or 8th sem for students who had 3 Credits HS301 / GE111 3-1-0-5-3\\nEnvironmental Science & Engineering\\n“English Language Skills” in 1st Semester\\n6 HS104 Professional Ethics[about 50% students] 1-1/3-1-13/6-1.5\\n3 BMXXX/MAXXX\\nTOTAL CREDITS 17 or 18.5\\n/CYXXX/PHXX Science Maths Elective II 3 Credits\\nX\\nSemester 6\\n4 CEXXX Program Elective II 3 Credits\\nS.No. Course Code Course Description L-T-P-S-C\\n5 Any extracredits taken under HS\\nXXXXX 3 Credits 1 CS 304 Computer Networks 3-1-2-6-4\\nElective/Program Elective/Science Maths Elective\\nTotal Credits 15 Credits\\n2 CS 305 Software Engineerin g 3-1-2-6-4\\nXXXXX denotes Open Elective Course. 3 CS 306 Theory of Computation 3-1-0-5-3\\n4 CP301 Development Engineering Project 0-0-6-3-3\\nGrand Total: 145 5 Industrial Management / Introduction\\nPlease Note: Contents of all the courses are available on www.iitrpr.ac.in as Course HS301 / GE111 to Environmental Science & 3-1-0-5-3\\nbooklet of UG 2021-22, Engineering\\n6 Professional Ethics [about 50%\\n2.7.3 B.TECH. IN COM PUTER SCIENCE AND ENGINEERING HS104 1-1/3-1-13/6-1.5\\nstudents]\\nSemester 3\\nTOTAL CREDITS 17 or 18.5\\nS .No. Course Code Course Description L-T-P-S-C\\n1 CS20 1 Data Structures 3-1-2-6-4\\n2 CS203 Digital Logic Design 3-1-2-6-4 Summer Vacation following Semester 6\\n3 MA201 Differential Equatio ns 3-1-0-5-3 S.No Course Code Course Description L-T-P-S-C\\n4 EE201 Signals and Systems 3-1-0-5-3 . 5 NCIII/NO III/NSIII NCC/NSO/NSS 0 -0-2-1-1 1 Industrial Internship and Comprehensive\\n6 3-1-0-5-3/\\nViva Voce (7 0% weightage for 8-week full\\nII301 0-0-7-3.5-3.5\\nHS201/ GE108 Economics/Basic Electronics\\ninternship and 30% for comprehensive viva\\n(2-2/3-2-13/3-3)\\non program fundamentals)\\n7 Tinkering Lab/ Introduction to [0 -0-3-3/2-1.5]/\\nGE107/ GE109\\nEngineering Product s [0 -0-2-1-1]\\nTotal Credits 3.5\\nTOTAL CREDITS 19 or 19.5\\nIIT ROPAR www.iitrpr.ac.in IIT ROPAR www.iitrpr.ac.in\\n22 23Semester 7 Semester 4\\nS.N o. Course Code Course Description L-T-P-S-C\\nS.No. Course Code Course Description L-T-P-S-C\\n1 CP302 Capstone Project I 0-0-6-3-3 1 EE209 Circuit Theory 3-1-0-5-3\\nELECTIVE COURSES 2 EE207 Control Engineering 3-1-0-5-3\\n2 An English Language/Literature elective course in 3 EE206 Electromechanics Lab 0-0-3-3-1.5\\nHSXXX either 7th or 8th sem for students who had 3 Credits 4 MA203 Probability and Stochastic Processes 3-1-0-5-3\\n“English Language Skills” in 1st Semester 5 Human Geography and Societal Needs/ [1-1/3-4-11/3-3]/\\nHS202 / BM101\\n3 BMXXX/MAXXX Biology for Engineers [3-1-0-5-3]\\n/CYXXX/PHXX Science Maths Elective I 3 Credits 6 NCIV/NOIV/NSIV NCC/NSO/NSS 0 -0-2-1-1\\nX 7 3-1-0-5-3/\\nHS201/ GE108 Economics/Basic Electronics\\n4 CSXXX Program Elective I 3 Credits (2-2/3-2-13/3-3 )\\n5 Any extra credits taken under HS 8 Tinkering Lab/ Introduction to [0 -0-3-3/2-1.5]/\\nXXXXX 3 Credits GE107/ GE109\\nElective/Program Elective/Science Maths Elective Engineering Prod ucts [0 -0-2-1-1]\\nTotal Credits 15 Credits TOTAL CREDITS 18.5 or 19\\nSemester 8\\nSemester 5\\nS.No. Course Code Course Description L-T-P-S-C\\nS.No. Course Code Course Description L-T-P-S-C\\n1 CP303 Capstone Project II 0-0-6-3-3 1 EE208 Control Engineering Laboratory 0-0-3-3/2-1.5\\nELECTIVE C OURSES 2 EE301 Analog Circuits 3-1-0-5-3\\n2 An English Language/Literature ele ctive course in 3 EE302 Analog Circuits Lab 0-0-3-3-1.5\\nHSXXX either 7th or 8th sem for students who had 3 Credits 4 EE303 Communication Engineering 3-1-0-5-3\\n“English Language Skills” in 1st Semester 5 EE305 Engineering Electromagnetics 3-1-0-5-3\\n3 BMXXX/MAXXX 6 Human Geography and Societal Needs/ [1-1/3-4-11/3-3]/\\nHS202 / BM101\\n/CYXXX/PHXX Science Maths Elective II 3 Credits Biology for Engineers [3-1-0-5-3]\\nX 7 Industrial Management / Introduction to\\nHS301 / GE111 3-1-0-5-3\\n4 CSXX X Program Elective II 3 Credits Environmental Science & Engineering\\n5 Any extra credits taken under HS 8 HS104 Professional Ethics[about 50% students] 1-1/3-1-13/6-1.5\\nXXXXX 3 Credits\\nElective/Program Elective/Science Maths Elective TOTAL CREDITS 18 or 19.5\\nTotal Credits 15 Credits\\nXXXXX denotes Open Elective Course. S emester 6\\nS .No. Course Code Course Description L-T-P-S-C\\nGrand Total: 145\\n1 EE304 Communication Lab 0-0-3-1.5-1.5\\nPlease Note: Contents of all the courses are available on www.iitrpr.ac.in as Course\\nbooklet of UG 202 1-22,\\n2 EE306 Electromagnetics Lab 0-0-3-1.5-1.5\\n3 EE307 Power Electronics 3-1-0-5-3\\n4 EE308 Power Electronics Lab 0-0-3-1.5-1.5\\n2.7.4 B.Tech. in Electrical Engineering 5 EE309 Power Systems 3-1-0-5-3\\n6 EE310 Power Systems Laboratory 0-0-3-1.5-1.5\\nSemester 3\\n7 CP301 Development Engineering Project 0-0-6-3-3\\nS.No. Course Code Course Description L-T-P-S-C\\n8 Industrial Management / Introduction\\n1 EE20 1 Signals and Systems 3-1-0-5-3\\nHS301 / GE111 to Environmental Science & 3-1-0-5-3\\n2 EE203 Digital Circuits 3-1-0-5-3\\nEngineering\\n3 EE204 Digital Circuits Lab 0-0-3-3-1.5\\n9 Professional Ethics [about 50%\\n4 EE205 Electromechanics 3-1-0-5-3 HS104\\nstudents]\\n1-1/3-1-13/6-1.5\\n5 MA201 Differential Equations 3-1-0-5-3\\nTOTAL CRE DITS 18 or 19.5\\n6 NCIII/NOIII/NSIII NCC/NSO/NSS 0 -0-2-1-1\\n7 3-1-0-5-3/ S ummer Vacation following Semester 6\\nHS201/ GE108 Economics/Basic Electro nics\\n(2-2/3-2-13/3-3) S.No Course Code CourseDescription L-T-P-S-C\\n8 Tinkering Lab/ Introduction to Engineering [0 -0-3-3/2-1.5]/ .Semester 7 Semester 4\\nS.N o. Course Code Course Description L-T-P-S-C\\nS.No. Course Code Course Description L-T-P-S-C\\n1 CP302 Capstone Project I 0-0-6-3-3 1 EE209 Circuit Theory 3-1-0-5-3\\nELECTIVE COURSES 2 EE207 Control Engineering 3-1-0-5-3\\n2 An English Language/Literature elective course in 3 EE206 Electromechanics Lab 0-0-3-3-1.5\\nHSXXX either 7th or 8th sem for students who had 3 Credits 4 MA203 Probability and Stochastic Processes 3-1-0-5-3\\n“English Language Skills” in 1st Semester 5 Human Geography and Societal Needs/ [1-1/3-4-11/3-3]/\\nHS202 / BM101\\n3 BMXXX/MAXXX Biology for Engineers [3-1-0-5-3]\\n/CYXXX/PHXX Science Maths Elective I 3 Credits 6 NCIV/NOIV/NSIV NCC/NSO/NSS 0 -0-2-1-1\\nX 7 3-1-0-5-3/\\nHS201/ GE108 Economics/Basic Electronics\\n4 CSXXX Program Elective I 3 Credits (2-2/3-2-13/3-3 )\\n5 Any extra credits taken under HS 8 Tinkering Lab/ Introduction to [0 -0-3-3/2-1.5]/\\nXXXXX 3 Credits GE107/ GE109\\nElective/Program Elective/Science Maths Elective Engineering Prod ucts [0 -0-2-1-1]\\nTotal Credits 15 Credits TOTAL CREDITS 18.5 or 19\\nSemester 8\\nSemester 5\\nS.No. Course Code Course Description L-T-P-S-C\\nS.No. Course Code Course Description L-T-P-S-C\\n1 CP303 Capstone Project II 0-0-6-3-3 1 EE208 Control Engineering Laboratory 0-0-3-3/2-1.5\\nELECTIVE C OURSES 2 EE301 Analog Circuits 3-1-0-5-3\\n2 An English Language/Literature ele ctive course in 3 EE302 Analog Circuits Lab 0-0-3-3-1.5\\nHSXXX either 7th or 8th sem for students who had 3 Credits 4 EE303 Communication Engineering 3-1-0-5-3\\n“English Language Skills” in 1st Semester 5 EE305 Engineering Electromagnetics 3-1-0-5-3\\n3 BMXXX/MAXXX 6 Human Geography and Societal Needs/ [1-1/3-4-11/3-3]/\\nHS202 / BM101\\n/CYXXX/PHXX Science Maths Elective II 3 Credits Biology for Engineers [3-1-0-5-3]\\nX 7 Industrial Management / Introduction to\\nHS301 / GE111 3-1-0-5-3\\n4 CSXX X Program Elective II 3 Credits Environmental Science & Engineering\\n5 Any extra credits taken under HS 8 HS104 Professional Ethics[about 50% students] 1-1/3-1-13/6-1.5\\nXXXXX 3 Credits\\nElective/Program Elective/Science Maths Elective TOTAL CREDITS 18 or 19.5\\nTotal Credits 15 Credits\\nXXXXX denotes Open Elective Course. S emester 6\\nS .No. Course Code Course Description L-T-P-S-C\\nGrand Total: 145\\n1 EE304 Communication Lab 0-0-3-1.5-1.5\\nPlease Note: Contents of all the courses are available on www.iitrpr.ac.in as Course\\nbooklet of UG 202 1-22,\\n2 EE306 Electromagnetics Lab 0-0-3-1.5-1.5\\n3 EE307 Power Electronics 3-1-0-5-3\\n4 EE308 Power Electronics Lab 0-0-3-1.5-1.5\\n2.7.4 B.Tech. in Electrical Engineering 5 EE309 Power Systems 3-1-0-5-3\\n6 EE310 Power Systems Laboratory 0-0-3-1.5-1.5\\nSemester 3\\n7 CP301 Development Engineering Project 0-0-6-3-3\\nS.No. Course Code Course Description L-T-P-S-C\\n8 Industrial Management / Introduction\\n1 EE20 1 Signals and Systems 3-1-0-5-3\\nHS301 / GE111 to Environmental Science & 3-1-0-5-3\\n2 EE203 Digital Circuits 3-1-0-5-3\\nEngineering\\n3 EE204 Digital Circuits Lab 0-0-3-3-1.5\\n9 Professional Ethics [about 50%\\n4 EE205 Electromechanics 3-1-0-5-3 HS104\\nstudents]\\n1-1/3-1-13/6-1.5\\n5 MA201 Differential Equations 3-1-0-5-3\\nTOTAL CRE DITS 18 or 19.5\\n6 NCIII/NOIII/NSIII NCC/NSO/NSS 0 -0-2-1-1\\n7 3-1-0-5-3/ S ummer Vacation following Semester 6\\nHS201/ GE108 Economics/Basic Electro nics\\n(2-2/3-2-13/3-3) S.No Course Code CourseDescription L-T-P-S-C\\n8 Tinkering Lab/ Introduction to Engineering [0 -0-3-3/2-1.5]/ .Summer Vacation following Semester 6 2. Minimum CGPA required for converting to B.Tech.-M.Tech. Dual degree: 7.0. S.No Course Code Course Description L-T-P-S-C\\n3. Total credits for B.-Tech.-M.Tech. dual degree : 188-192.\\n. 2) Courses\\n1 Industrial Internship and Comprehensive\\nViva Voce (7 0% weightage for 8-week full The first four years of the program are almost identical to the B.Tech. course work. II301 0-0-7-3.5-3.5\\ninternship and 30% for comprehensive viva\\n3) Course credits Requirements\\non program fundamentals)\\na) UG level courses : 139\\nTotal Credits 3.5\\nS emester 7 b) UG/ PG Course/ Project during summer after 7th sem: 6 credits\\nS.No Course Code Course Description L-T-P-S-C c) Minimum PG level elective courses :15 credits\\n. d) Project work: 28-32 credits\\n1 CP302 Capstone Project I 0-0-6-3-3\\n4) Research\\nELECTIVE COURSES\\n2 An English Language/Literature elective course in The last two semesters and one summer terms are devoted entirely to research work. HSXXX either 7th or 8th sem for students who had 3 Credits Students work under a faculty research supervisor on a challenging research\\n“English Language Skills” in 1st Semester problem. Supervisor for project can be assigned to the students before the start of\\n3 BMXXX/MAXXX end- semester exam of 7th semester. Further course details of the programme will be\\n/CYXXX/PHXX Science Maths Elective I 3 Credits decided by Department. X\\n5) Scholarship\\n4 MMXX X Program Elective I 3 Credits\\na) In the fifth year (1st June to 31st May), a scholarship currently at Rs. 12,400 per\\n5 Any extra credits take n under HS\\nXXXXX 3 Credits\\nmonth (as per Govt.of India Norms) will be given subject to a minimum CGPA of 8\\nElective/Program Elective/Science Maths Elective\\nor attaining a valid GATE Score. Total Credits 15 Credits\\nb) If a student opt for conversion to B.Tech –M.Tech (dual degree) then he/she is\\nSemester 8\\neligible to get a scholarship amount of Rs 5000/- per month in the 8th semester\\nS.No Course Code Course Description L-T-P-S-C\\nand subsequently as mentioned above. . 6) Exit degree\\n1 CP303 Capstone Project II 0-0-6-3-3\\nELECTIVE COURSES At the end of 5 year, the student graduates, receiving both B.Tech. and M.Tech. degree\\n2 An English Language/Literature elective course in together, there is no option for early exit with a B.Tech. degree unless the student\\nHSXXX either 7th or 8th sem for students who had 3 Credits performance is so poor that he/she is considered incapable of securing the higher\\n“English Language Skills” in 1st Semester degree. Institute reserves the sole right to make the decision in such cases. 3 BMXXX/MAXXX\\n2.7.9 Course Plan for B.Tech. with Minor\\n/CYXXX/PHXX Science Maths Elective II 3 Credits\\nX Same as that for “Basic B.Tech.\" with Minor coursework (total 15 credits) added and\\n4 MMXXX Program Elective II 3 Credits distributed over four semesters - Semester 5 to 8. 5 Any extra credits taken under HS 2.7.10 GUIDELINES FOR OFFERING OF MINOR PROGRAMME FOR UG STUDENTS\\nXXXXX 3 Credits\\nElective/Program Elective/Science Maths Elective\\ni.'"
            ],
            "application/vnd.google.colaboratory.intrinsic+json": {
              "type": "string"
            }
          },
          "metadata": {},
          "execution_count": 62
        }
      ]
    },
    {
      "cell_type": "code",
      "source": [
        "len(Context)"
      ],
      "metadata": {
        "colab": {
          "base_uri": "https://localhost:8080/"
        },
        "id": "nP86fshP1IgJ",
        "outputId": "be7631f0-d344-42cb-e703-9d4aa5d69f33"
      },
      "execution_count": 50,
      "outputs": [
        {
          "output_type": "execute_result",
          "data": {
            "text/plain": [
              "6142"
            ]
          },
          "metadata": {},
          "execution_count": 50
        }
      ]
    },
    {
      "cell_type": "code",
      "source": [
        "r'''Putting them all together in a function'''\n",
        "def FaissSearch(query_vector, vectors, k=10):\n",
        "  faiss.normalize_L2(vectors)\n",
        "  # 3. Build a FAISS index\n",
        "  dimension = vectors.shape[1]  # Assuming vectors are of uniform length\n",
        "  index = faiss.IndexFlatIP(dimension)  # Cosine similarity\n",
        "  index.add(vectors)\n",
        "\n",
        "  # Normalize the query vector\n",
        "  faiss.normalize_L2(query_vector.reshape(1, -1))\n",
        "\n",
        "  # Conduct similarity search\n",
        "  # k Number of nearest neighbors to retrieve\n",
        "  distances, indices = index.search(query_vector.reshape(1, -1), k)\n",
        "\n",
        "  # Map indices back to IDs\n",
        "  result_ids = [ids[i] for i in indices[0]]\n",
        "\n",
        "  Context = \"\"\n",
        "  pages = []\n",
        "  cursor = collection.find({\"_id\": {\"$in\": result_ids}})\n",
        "  # Process the cursor as before (iterate or convert to list)\n",
        "  for document in cursor:\n",
        "    Context += document['text']\n",
        "    pages.append(document['page_number'])\n",
        "  pages = set(pages)\n",
        "\n",
        "  return Context, pages"
      ],
      "metadata": {
        "id": "Aw2CZDAI1Jwd"
      },
      "execution_count": 65,
      "outputs": []
    },
    {
      "cell_type": "code",
      "source": [
        "Context, pages = FaissSearch(query_vector, vectors)"
      ],
      "metadata": {
        "id": "BkzuUr3G4LDo"
      },
      "execution_count": 66,
      "outputs": []
    },
    {
      "cell_type": "code",
      "source": [
        "Context"
      ],
      "metadata": {
        "colab": {
          "base_uri": "https://localhost:8080/",
          "height": 157
        },
        "id": "37b1uytD5KUt",
        "outputId": "d0a17b61-3a6b-433c-9842-a040323b92f9"
      },
      "execution_count": 67,
      "outputs": [
        {
          "output_type": "execute_result",
          "data": {
            "text/plain": [
              "'Semester 7\\nSem ester 4\\nS.No. Course Code Course Description L-T-P-S-C\\nS.No. Course Code Course Description L-T-P-S-C\\n1 CP302 Capstone Project I 0-0-6-3-3\\n1 CE301 Structural Analysis 2-2/3-0-3-2\\nELECTIVE COURSES\\n2 CE302 Pipe and Open Channel Hydraulics 2-2/3-2-4-3\\n2 An English Language/Literature elective course in\\n3 CE303 Soil Mechanics 2-2/3-2-4-3\\nHSXXX either 7th or 8th sem for students who had 3 Credits\\n4 MA202 Probability and Statistics 3-1-0-5-3\\n“English Language Skills” in 1st Semester\\n5 Human Geography and Societal Needs / [1-1/3-4-11/3-3] /\\n3 BMXXX/MAXXX HS202 / BM101\\nBiology for Engineers [3-1-0-5- 3]\\n/CYXXX/PHXX Science Maths Elective I 3 Credits\\n6 NCIV/NOIV/NSIV NCC/NSO/NSS 0 -0-2-1-1\\nX\\n7 3-1-0-5-3 /\\n4 CHXXX Program Elective I 3 Credits HS201 / GE108 Economics/Basic Electronics\\n(2-2/3-2-13/3-3)\\n5 Any extra credits taken under HS\\nXXXXX 3 Credits 8 Tinkering Lab / Introduction to [0 -0-3-3/2-1.5] /\\nElective/Program Elective/Science Maths Elective GE107 / GE109\\nEngineering Products [0 -0-2-1-1]\\nTotal Credits 15 Credits\\nTOTAL CREDITS 19 or 19.5\\nSemester 8\\nSemester 5\\nS.No. Cou rse Code Course Description L-T-P-S-C\\nS.No. Course Code Course Description L-T-P-S-C\\n1 CE401 Structural Analysis II 2-1-0-3-2\\n1 CP303 Capstone Project II 0-0-6-3-3\\n2 CE402 Water Resources Engineering 3-1-0-5-3\\nELECTIVE C OURSES\\n3 CE203 Computer Aided Building Drawing 0-1-2-0-1\\n2 An English Language/Literature ele ctive course in\\n4 CE404 Reinforced Concrete Structures 3-1-3-6.5-4.5\\nHSXXX either 7th or 8th sem for students who had 3 Credits\\n5 Human Geography and Societal Needs / [1-1/3-4-11/3-3] /\\n“English Language Skills” in 1st Semester HS202 / BM101\\nBiology for Engineers [3-1-0-5-3]\\n3 BMXXX/MAXXX\\n6 Introduction to Environmental Science &\\n/CYXXX/PHXX Science Maths Elective I 3 Credits GE111 3-1-0-5-3\\nEngineering\\nX\\n7 Professional E thics [about 50%\\n4 CHXX X Program Elective II 3 Credits HS104 1-1/3-1-13/6-1.5\\nstudents]\\n5 Any extra credits taken under HS\\nXXXXX 3 Credits TOTAL CRED ITS 16.5 or 18\\nElective/Program Elective/Science Maths Elective\\nTotal Credits 15 Credits\\n*Civil Engineering students shall credit the course- Introduction to Environmental Science\\nXXXXX denotes Open Elective Course. Grand Total: 145 and Engineering in their fifth semester only. Please Note: Contents of all the courses are available on www.iitrpr.ac.in as Course\\nbooklet of UG 2021-22 S emester 6\\nS.No. Course Code Course Description L-T-P-S-C\\n2.7.2 B.TECH. IN CIVIL ENGINEERING\\n1 CE405 Water and Wastewater Treatment 2-1-3-4.5-3.5\\nSemester 3 2 CE407 Transportation Engineering 3-1-2-6-4\\nS.No. Course Code Course Description L-T-P-S-C 3 CE403 FOUNDATION ENGINEERING 2-1-0-3-2\\n1 CE201 Strength of Materials 2-1-2-4-3 4 CE406 STEEL STRUCTURES 3-1-0-5-3\\n2 CE202 Fundamentals of Fluid Mechanics 2-1-0-3-2 5 CP301 Development Engineering Project 0-0-6-3-3\\n3 CE304 Geomatics 2-1-2-4-3 6 HS301 Industrial Management 3-1-0-5-3\\n4 MA201 Differential Equations 3-1-0-5-3 7 HS104 Professional Ethics[about 50% students] 1-1/3-1-13/6-1.5\\n5 GE203 Materials Sci ence for Civil Engineers 3-1-0-5-3 TOTAL CREDITS 18.5or 20\\n6 NCIII/NOIII/N SIII NCC/NSO/NSS 0 -0-2-1-1 Summer Vacation following Semester 6\\n7 3-1-0-5-3 / S.No Course Code Course Description L-T-P-S-C\\nHS201 / GE108 Economics/Basic Electronics\\n(2-2/3-2-13/3-3) .Semester 7\\nSem ester 4\\nS.No. Course Code Course Description L-T-P-S-C\\nS.No. Course Code Course Description L-T-P-S-C\\n1 CP302 Capstone Project I 0-0-6-3-3\\n1 CE301 Structural Analysis 2-2/3-0-3-2\\nELECTIVE COURSES\\n2 CE302 Pipe and Open Channel Hydraulics 2-2/3-2-4-3\\n2 An English Language/Literature elective course in\\n3 CE303 Soil Mechanics 2-2/3-2-4-3\\nHSXXX either 7th or 8th sem for students who had 3 Credits\\n4 MA202 Probability and Statistics 3-1-0-5-3\\n“English Language Skills” in 1st Semester\\n5 Human Geography and Societal Needs / [1-1/3-4-11/3-3] /\\n3 BMXXX/MAXXX HS202 / BM101\\nBiology for Engineers [3-1-0-5- 3]\\n/CYXXX/PHXX Science Maths Elective I 3 Credits\\n6 NCIV/NOIV/NSIV NCC/NSO/NSS 0 -0-2-1-1\\nX\\n7 3-1-0-5-3 /\\n4 CHXXX Program Elective I 3 Credits HS201 / GE108 Economics/Basic Electronics\\n(2-2/3-2-13/3-3)\\n5 Any extra credits taken under HS\\nXXXXX 3 Credits 8 Tinkering Lab / Introduction to [0 -0-3-3/2-1.5] /\\nElective/Program Elective/Science Maths Elective GE107 / GE109\\nEngineering Products [0 -0-2-1-1]\\nTotal Credits 15 Credits\\nTOTAL CREDITS 19 or 19.5\\nSemester 8\\nSemester 5\\nS.No. Cou rse Code Course Description L-T-P-S-C\\nS.No. Course Code Course Description L-T-P-S-C\\n1 CE401 Structural Analysis II 2-1-0-3-2\\n1 CP303 Capstone Project II 0-0-6-3-3\\n2 CE402 Water Resources Engineering 3-1-0-5-3\\nELECTIVE C OURSES\\n3 CE203 Computer Aided Building Drawing 0-1-2-0-1\\n2 An English Language/Literature ele ctive course in\\n4 CE404 Reinforced Concrete Structures 3-1-3-6.5-4.5\\nHSXXX either 7th or 8th sem for students who had 3 Credits\\n5 Human Geography and Societal Needs / [1-1/3-4-11/3-3] /\\n“English Language Skills” in 1st Semester HS202 / BM101\\nBiology for Engineers [3-1-0-5-3]\\n3 BMXXX/MAXXX\\n6 Introduction to Environmental Science &\\n/CYXXX/PHXX Science Maths Elective I 3 Credits GE111 3-1-0-5-3\\nEngineering\\nX\\n7 Professional E thics [about 50%\\n4 CHXX X Program Elective II 3 Credits HS104 1-1/3-1-13/6-1.5\\nstudents]\\n5 Any extra credits taken under HS\\nXXXXX 3 Credits TOTAL CRED ITS 16.5 or 18\\nElective/Program Elective/Science Maths Elective\\nTotal Credits 15 Credits\\n*Civil Engineering students shall credit the course- Introduction to Environmental Science\\nXXXXX denotes Open Elective Course. Grand Total: 145 and Engineering in their fifth semester only. Please Note: Contents of all the courses are available on www.iitrpr.ac.in as Course\\nbooklet of UG 2021-22 S emester 6\\nS.No. Course Code Course Description L-T-P-S-C\\n2.7.2 B.TECH. IN CIVIL ENGINEERING\\n1 CE405 Water and Wastewater Treatment 2-1-3-4.5-3.5\\nSemester 3 2 CE407 Transportation Engineering 3-1-2-6-4\\nS.No. Course Code Course Description L-T-P-S-C 3 CE403 FOUNDATION ENGINEERING 2-1-0-3-2\\n1 CE201 Strength of Materials 2-1-2-4-3 4 CE406 STEEL STRUCTURES 3-1-0-5-3\\n2 CE202 Fundamentals of Fluid Mechanics 2-1-0-3-2 5 CP301 Development Engineering Project 0-0-6-3-3\\n3 CE304 Geomatics 2-1-2-4-3 6 HS301 Industrial Management 3-1-0-5-3\\n4 MA201 Differential Equations 3-1-0-5-3 7 HS104 Professional Ethics[about 50% students] 1-1/3-1-13/6-1.5\\n5 GE203 Materials Sci ence for Civil Engineers 3-1-0-5-3 TOTAL CREDITS 18.5or 20\\n6 NCIII/NOIII/N SIII NCC/NSO/NSS 0 -0-2-1-1 Summer Vacation following Semester 6\\n7 3-1-0-5-3 / S.No Course Code Course Description L-T-P-S-C\\nHS201 / GE108 Economics/Basic Electronics\\n(2-2/3-2-13/3-3) .Semester 7 Semester 4\\nS.No Course Code Course Description L-T-P-S-C\\nS.No. Course Code Course Description L-T-P-S-C\\n. 1 CS202 Programming Paradigms and Pragmatics 3 -1-2-6-4\\n1 CP302 Capstone Project I 0-0-6-3-3\\n2 CS204 Computer Architecture 3-1-2-6-4\\nELECTIVE COURSES\\n3 MA202 Probability and Statistics 3-1-0-5-3\\n2 An English Language/Literature elective course in\\n4 Human Geography and Societal Needs/ [1-1/3-4-11/3-3]/\\nHSXXX either 7th or 8th sem for students who had 3 Credits HS202 / BM101\\nBiology for Engineers [3-1-0-5-3]\\n“English Language Skills” in 1st Semester\\n5 NCIV/NOIV/NSIV NCC/NSO/NSS 0 -0-2-1-1\\n3 BMXXX/MAXXX\\n6 3-1-0-5-3/\\n/CYXXX/PHXX Science Maths Elective I 3 Credits HS201/ GE108 Economics/Basic Electronics\\n(2-2/3-2-13/3-3)\\nX\\n7 Tinkering Lab/ Introduction to [0 -0-3-3/2-1.5]/\\n4 CEXXX Program Elective I 3 Credits GE107/ GE109\\nEngineering Products [0 -0-2-1-1]\\n5 Anyextra credits taken under HS\\nXXXXX 3 Credits TOTAL CREDITS 19 or 19.5\\nElective/Program Elective/Science Maths Elective\\nTotal Credits 15 Credits Semester 5\\nS .No. Course Code Course Description L-T-P-S-C\\nSemester 8\\n1 CS301 Introduction to Databa ses Systems 3-1-2-6-4\\nS.No Cou rse Code Course Description L-T-P-S-C\\n2 CS302 Analysis and Design of Algorithms 3-1-0-5-3\\n. 3 CS303 Operating Systems 3-1-2-6-4\\n1 CP303 Capstone Project II 0-0-6-3-3\\n4 Human Geography and Societal Needs/ [1-1/3-4-11/3- 3]/\\nELECTIVE C OURSES HS202 / BM101\\nBiology for Engineers [3-1-0-5-3]\\n2 An English Language/Literature ele ctive course in\\n5 Industrial Management/ Introduction to\\nHSXXX either 7th or 8th sem for students who had 3 Credits HS301 / GE111 3-1-0-5-3\\nEnvironmental Science & Engineering\\n“English Language Skills” in 1st Semester\\n6 HS104 Professional Ethics[about 50% students] 1-1/3-1-13/6-1.5\\n3 BMXXX/MAXXX\\nTOTAL CREDITS 17 or 18.5\\n/CYXXX/PHXX Science Maths Elective II 3 Credits\\nX\\nSemester 6\\n4 CEXXX Program Elective II 3 Credits\\nS.No. Course Code Course Description L-T-P-S-C\\n5 Any extracredits taken under HS\\nXXXXX 3 Credits 1 CS 304 Computer Networks 3-1-2-6-4\\nElective/Program Elective/Science Maths Elective\\nTotal Credits 15 Credits\\n2 CS 305 Software Engineerin g 3-1-2-6-4\\nXXXXX denotes Open Elective Course. 3 CS 306 Theory of Computation 3-1-0-5-3\\n4 CP301 Development Engineering Project 0-0-6-3-3\\nGrand Total: 145 5 Industrial Management / Introduction\\nPlease Note: Contents of all the courses are available on www.iitrpr.ac.in as Course HS301 / GE111 to Environmental Science & 3-1-0-5-3\\nbooklet of UG 2021-22, Engineering\\n6 Professional Ethics [about 50%\\n2.7.3 B.TECH. IN COM PUTER SCIENCE AND ENGINEERING HS104 1-1/3-1-13/6-1.5\\nstudents]\\nSemester 3\\nTOTAL CREDITS 17 or 18.5\\nS .No. Course Code Course Description L-T-P-S-C\\n1 CS20 1 Data Structures 3-1-2-6-4\\n2 CS203 Digital Logic Design 3-1-2-6-4 Summer Vacation following Semester 6\\n3 MA201 Differential Equatio ns 3-1-0-5-3 S.No Course Code Course Description L-T-P-S-C\\n4 EE201 Signals and Systems 3-1-0-5-3 . 5 NCIII/NO III/NSIII NCC/NSO/NSS 0 -0-2-1-1 1 Industrial Internship and Comprehensive\\n6 3-1-0-5-3/\\nViva Voce (7 0% weightage for 8-week full\\nII301 0-0-7-3.5-3.5\\nHS201/ GE108 Economics/Basic Electronics\\ninternship and 30% for comprehensive viva\\n(2-2/3-2-13/3-3)\\non program fundamentals)\\n7 Tinkering Lab/ Introduction to [0 -0-3-3/2-1.5]/\\nGE107/ GE109\\nEngineering Product s [0 -0-2-1-1]\\nTotal Credits 3.5\\nTOTAL CREDITS 19 or 19.5\\nIIT ROPAR www.iitrpr.ac.in IIT ROPAR www.iitrpr.ac.in\\n22 23Semester 7 Semester 4\\nS.No Course Code Course Description L-T-P-S-C\\nS.No. Course Code Course Description L-T-P-S-C\\n. 1 CS202 Programming Paradigms and Pragmatics 3 -1-2-6-4\\n1 CP302 Capstone Project I 0-0-6-3-3\\n2 CS204 Computer Architecture 3-1-2-6-4\\nELECTIVE COURSES\\n3 MA202 Probability and Statistics 3-1-0-5-3\\n2 An English Language/Literature elective course in\\n4 Human Geography and Societal Needs/ [1-1/3-4-11/3-3]/\\nHSXXX either 7th or 8th sem for students who had 3 Credits HS202 / BM101\\nBiology for Engineers [3-1-0-5-3]\\n“English Language Skills” in 1st Semester\\n5 NCIV/NOIV/NSIV NCC/NSO/NSS 0 -0-2-1-1\\n3 BMXXX/MAXXX\\n6 3-1-0-5-3/\\n/CYXXX/PHXX Science Maths Elective I 3 Credits HS201/ GE108 Economics/Basic Electronics\\n(2-2/3-2-13/3-3)\\nX\\n7 Tinkering Lab/ Introduction to [0 -0-3-3/2-1.5]/\\n4 CEXXX Program Elective I 3 Credits GE107/ GE109\\nEngineering Products [0 -0-2-1-1]\\n5 Anyextra credits taken under HS\\nXXXXX 3 Credits TOTAL CREDITS 19 or 19.5\\nElective/Program Elective/Science Maths Elective\\nTotal Credits 15 Credits Semester 5\\nS .No. Course Code Course Description L-T-P-S-C\\nSemester 8\\n1 CS301 Introduction to Databa ses Systems 3-1-2-6-4\\nS.No Cou rse Code Course Description L-T-P-S-C\\n2 CS302 Analysis and Design of Algorithms 3-1-0-5-3\\n. 3 CS303 Operating Systems 3-1-2-6-4\\n1 CP303 Capstone Project II 0-0-6-3-3\\n4 Human Geography and Societal Needs/ [1-1/3-4-11/3- 3]/\\nELECTIVE C OURSES HS202 / BM101\\nBiology for Engineers [3-1-0-5-3]\\n2 An English Language/Literature ele ctive course in\\n5 Industrial Management/ Introduction to\\nHSXXX either 7th or 8th sem for students who had 3 Credits HS301 / GE111 3-1-0-5-3\\nEnvironmental Science & Engineering\\n“English Language Skills” in 1st Semester\\n6 HS104 Professional Ethics[about 50% students] 1-1/3-1-13/6-1.5\\n3 BMXXX/MAXXX\\nTOTAL CREDITS 17 or 18.5\\n/CYXXX/PHXX Science Maths Elective II 3 Credits\\nX\\nSemester 6\\n4 CEXXX Program Elective II 3 Credits\\nS.No. Course Code Course Description L-T-P-S-C\\n5 Any extracredits taken under HS\\nXXXXX 3 Credits 1 CS 304 Computer Networks 3-1-2-6-4\\nElective/Program Elective/Science Maths Elective\\nTotal Credits 15 Credits\\n2 CS 305 Software Engineerin g 3-1-2-6-4\\nXXXXX denotes Open Elective Course. 3 CS 306 Theory of Computation 3-1-0-5-3\\n4 CP301 Development Engineering Project 0-0-6-3-3\\nGrand Total: 145 5 Industrial Management / Introduction\\nPlease Note: Contents of all the courses are available on www.iitrpr.ac.in as Course HS301 / GE111 to Environmental Science & 3-1-0-5-3\\nbooklet of UG 2021-22, Engineering\\n6 Professional Ethics [about 50%\\n2.7.3 B.TECH. IN COM PUTER SCIENCE AND ENGINEERING HS104 1-1/3-1-13/6-1.5\\nstudents]\\nSemester 3\\nTOTAL CREDITS 17 or 18.5\\nS .No. Course Code Course Description L-T-P-S-C\\n1 CS20 1 Data Structures 3-1-2-6-4\\n2 CS203 Digital Logic Design 3-1-2-6-4 Summer Vacation following Semester 6\\n3 MA201 Differential Equatio ns 3-1-0-5-3 S.No Course Code Course Description L-T-P-S-C\\n4 EE201 Signals and Systems 3-1-0-5-3 . 5 NCIII/NO III/NSIII NCC/NSO/NSS 0 -0-2-1-1 1 Industrial Internship and Comprehensive\\n6 3-1-0-5-3/\\nViva Voce (7 0% weightage for 8-week full\\nII301 0-0-7-3.5-3.5\\nHS201/ GE108 Economics/Basic Electronics\\ninternship and 30% for comprehensive viva\\n(2-2/3-2-13/3-3)\\non program fundamentals)\\n7 Tinkering Lab/ Introduction to [0 -0-3-3/2-1.5]/\\nGE107/ GE109\\nEngineering Product s [0 -0-2-1-1]\\nTotal Credits 3.5\\nTOTAL CREDITS 19 or 19.5\\nIIT ROPAR www.iitrpr.ac.in IIT ROPAR www.iitrpr.ac.in\\n22 23Semester 7 Semester 4\\nS.N o. Course Code Course Description L-T-P-S-C\\nS.No. Course Code Course Description L-T-P-S-C\\n1 CP302 Capstone Project I 0-0-6-3-3 1 EE209 Circuit Theory 3-1-0-5-3\\nELECTIVE COURSES 2 EE207 Control Engineering 3-1-0-5-3\\n2 An English Language/Literature elective course in 3 EE206 Electromechanics Lab 0-0-3-3-1.5\\nHSXXX either 7th or 8th sem for students who had 3 Credits 4 MA203 Probability and Stochastic Processes 3-1-0-5-3\\n“English Language Skills” in 1st Semester 5 Human Geography and Societal Needs/ [1-1/3-4-11/3-3]/\\nHS202 / BM101\\n3 BMXXX/MAXXX Biology for Engineers [3-1-0-5-3]\\n/CYXXX/PHXX Science Maths Elective I 3 Credits 6 NCIV/NOIV/NSIV NCC/NSO/NSS 0 -0-2-1-1\\nX 7 3-1-0-5-3/\\nHS201/ GE108 Economics/Basic Electronics\\n4 CSXXX Program Elective I 3 Credits (2-2/3-2-13/3-3 )\\n5 Any extra credits taken under HS 8 Tinkering Lab/ Introduction to [0 -0-3-3/2-1.5]/\\nXXXXX 3 Credits GE107/ GE109\\nElective/Program Elective/Science Maths Elective Engineering Prod ucts [0 -0-2-1-1]\\nTotal Credits 15 Credits TOTAL CREDITS 18.5 or 19\\nSemester 8\\nSemester 5\\nS.No. Course Code Course Description L-T-P-S-C\\nS.No. Course Code Course Description L-T-P-S-C\\n1 CP303 Capstone Project II 0-0-6-3-3 1 EE208 Control Engineering Laboratory 0-0-3-3/2-1.5\\nELECTIVE C OURSES 2 EE301 Analog Circuits 3-1-0-5-3\\n2 An English Language/Literature ele ctive course in 3 EE302 Analog Circuits Lab 0-0-3-3-1.5\\nHSXXX either 7th or 8th sem for students who had 3 Credits 4 EE303 Communication Engineering 3-1-0-5-3\\n“English Language Skills” in 1st Semester 5 EE305 Engineering Electromagnetics 3-1-0-5-3\\n3 BMXXX/MAXXX 6 Human Geography and Societal Needs/ [1-1/3-4-11/3-3]/\\nHS202 / BM101\\n/CYXXX/PHXX Science Maths Elective II 3 Credits Biology for Engineers [3-1-0-5-3]\\nX 7 Industrial Management / Introduction to\\nHS301 / GE111 3-1-0-5-3\\n4 CSXX X Program Elective II 3 Credits Environmental Science & Engineering\\n5 Any extra credits taken under HS 8 HS104 Professional Ethics[about 50% students] 1-1/3-1-13/6-1.5\\nXXXXX 3 Credits\\nElective/Program Elective/Science Maths Elective TOTAL CREDITS 18 or 19.5\\nTotal Credits 15 Credits\\nXXXXX denotes Open Elective Course. S emester 6\\nS .No. Course Code Course Description L-T-P-S-C\\nGrand Total: 145\\n1 EE304 Communication Lab 0-0-3-1.5-1.5\\nPlease Note: Contents of all the courses are available on www.iitrpr.ac.in as Course\\nbooklet of UG 202 1-22,\\n2 EE306 Electromagnetics Lab 0-0-3-1.5-1.5\\n3 EE307 Power Electronics 3-1-0-5-3\\n4 EE308 Power Electronics Lab 0-0-3-1.5-1.5\\n2.7.4 B.Tech. in Electrical Engineering 5 EE309 Power Systems 3-1-0-5-3\\n6 EE310 Power Systems Laboratory 0-0-3-1.5-1.5\\nSemester 3\\n7 CP301 Development Engineering Project 0-0-6-3-3\\nS.No. Course Code Course Description L-T-P-S-C\\n8 Industrial Management / Introduction\\n1 EE20 1 Signals and Systems 3-1-0-5-3\\nHS301 / GE111 to Environmental Science & 3-1-0-5-3\\n2 EE203 Digital Circuits 3-1-0-5-3\\nEngineering\\n3 EE204 Digital Circuits Lab 0-0-3-3-1.5\\n9 Professional Ethics [about 50%\\n4 EE205 Electromechanics 3-1-0-5-3 HS104\\nstudents]\\n1-1/3-1-13/6-1.5\\n5 MA201 Differential Equations 3-1-0-5-3\\nTOTAL CRE DITS 18 or 19.5\\n6 NCIII/NOIII/NSIII NCC/NSO/NSS 0 -0-2-1-1\\n7 3-1-0-5-3/ S ummer Vacation following Semester 6\\nHS201/ GE108 Economics/Basic Electro nics\\n(2-2/3-2-13/3-3) S.No Course Code CourseDescription L-T-P-S-C\\n8 Tinkering Lab/ Introduction to Engineering [0 -0-3-3/2-1.5]/ .Semester 7 Semester 4\\nS.N o. Course Code Course Description L-T-P-S-C\\nS.No. Course Code Course Description L-T-P-S-C\\n1 CP302 Capstone Project I 0-0-6-3-3 1 EE209 Circuit Theory 3-1-0-5-3\\nELECTIVE COURSES 2 EE207 Control Engineering 3-1-0-5-3\\n2 An English Language/Literature elective course in 3 EE206 Electromechanics Lab 0-0-3-3-1.5\\nHSXXX either 7th or 8th sem for students who had 3 Credits 4 MA203 Probability and Stochastic Processes 3-1-0-5-3\\n“English Language Skills” in 1st Semester 5 Human Geography and Societal Needs/ [1-1/3-4-11/3-3]/\\nHS202 / BM101\\n3 BMXXX/MAXXX Biology for Engineers [3-1-0-5-3]\\n/CYXXX/PHXX Science Maths Elective I 3 Credits 6 NCIV/NOIV/NSIV NCC/NSO/NSS 0 -0-2-1-1\\nX 7 3-1-0-5-3/\\nHS201/ GE108 Economics/Basic Electronics\\n4 CSXXX Program Elective I 3 Credits (2-2/3-2-13/3-3 )\\n5 Any extra credits taken under HS 8 Tinkering Lab/ Introduction to [0 -0-3-3/2-1.5]/\\nXXXXX 3 Credits GE107/ GE109\\nElective/Program Elective/Science Maths Elective Engineering Prod ucts [0 -0-2-1-1]\\nTotal Credits 15 Credits TOTAL CREDITS 18.5 or 19\\nSemester 8\\nSemester 5\\nS.No. Course Code Course Description L-T-P-S-C\\nS.No. Course Code Course Description L-T-P-S-C\\n1 CP303 Capstone Project II 0-0-6-3-3 1 EE208 Control Engineering Laboratory 0-0-3-3/2-1.5\\nELECTIVE C OURSES 2 EE301 Analog Circuits 3-1-0-5-3\\n2 An English Language/Literature ele ctive course in 3 EE302 Analog Circuits Lab 0-0-3-3-1.5\\nHSXXX either 7th or 8th sem for students who had 3 Credits 4 EE303 Communication Engineering 3-1-0-5-3\\n“English Language Skills” in 1st Semester 5 EE305 Engineering Electromagnetics 3-1-0-5-3\\n3 BMXXX/MAXXX 6 Human Geography and Societal Needs/ [1-1/3-4-11/3-3]/\\nHS202 / BM101\\n/CYXXX/PHXX Science Maths Elective II 3 Credits Biology for Engineers [3-1-0-5-3]\\nX 7 Industrial Management / Introduction to\\nHS301 / GE111 3-1-0-5-3\\n4 CSXX X Program Elective II 3 Credits Environmental Science & Engineering\\n5 Any extra credits taken under HS 8 HS104 Professional Ethics[about 50% students] 1-1/3-1-13/6-1.5\\nXXXXX 3 Credits\\nElective/Program Elective/Science Maths Elective TOTAL CREDITS 18 or 19.5\\nTotal Credits 15 Credits\\nXXXXX denotes Open Elective Course. S emester 6\\nS .No. Course Code Course Description L-T-P-S-C\\nGrand Total: 145\\n1 EE304 Communication Lab 0-0-3-1.5-1.5\\nPlease Note: Contents of all the courses are available on www.iitrpr.ac.in as Course\\nbooklet of UG 202 1-22,\\n2 EE306 Electromagnetics Lab 0-0-3-1.5-1.5\\n3 EE307 Power Electronics 3-1-0-5-3\\n4 EE308 Power Electronics Lab 0-0-3-1.5-1.5\\n2.7.4 B.Tech. in Electrical Engineering 5 EE309 Power Systems 3-1-0-5-3\\n6 EE310 Power Systems Laboratory 0-0-3-1.5-1.5\\nSemester 3\\n7 CP301 Development Engineering Project 0-0-6-3-3\\nS.No. Course Code Course Description L-T-P-S-C\\n8 Industrial Management / Introduction\\n1 EE20 1 Signals and Systems 3-1-0-5-3\\nHS301 / GE111 to Environmental Science & 3-1-0-5-3\\n2 EE203 Digital Circuits 3-1-0-5-3\\nEngineering\\n3 EE204 Digital Circuits Lab 0-0-3-3-1.5\\n9 Professional Ethics [about 50%\\n4 EE205 Electromechanics 3-1-0-5-3 HS104\\nstudents]\\n1-1/3-1-13/6-1.5\\n5 MA201 Differential Equations 3-1-0-5-3\\nTOTAL CRE DITS 18 or 19.5\\n6 NCIII/NOIII/NSIII NCC/NSO/NSS 0 -0-2-1-1\\n7 3-1-0-5-3/ S ummer Vacation following Semester 6\\nHS201/ GE108 Economics/Basic Electro nics\\n(2-2/3-2-13/3-3) S.No Course Code CourseDescription L-T-P-S-C\\n8 Tinkering Lab/ Introduction to Engineering [0 -0-3-3/2-1.5]/ .Semester 7\\nS em ester 4\\nS.No Course Code Course Description L-T-P-S-C\\nS.No. Course Code Course Description L-T-P-S-C\\n. 1 ME203 Theory of Machines 3-1-0-5-3\\n1 CP302 Capstone Project I 0-0-6-3-3\\n2 ME204 Fluid Mechanics 3-1-0-5-3\\nELECTIVE COURSES\\n3 ME205 Design Lab-I 0-0-4-2-2\\n2 An English Language/Literatureelective course in\\n4 MA202 Probability and Statistics 3-1-0-5-3\\nHSXXX either 7th or 8th sem for students who had 3 Credits\\n5 Human Geography and Societal Needs / [1-1/3-4-11/3-3]/\\n“English Language Skills” in 1st Semester HS202 / BM101\\nBiology for Engineers [3-1-0-5-3]\\n3 BMXXX/MAXXX\\n6 NCIV/NOIV/NSIV NCC/NSO/NSS 0 -0-2-1-1\\n/CYXXX/PHXX Science Maths Elective I 3 Credits\\n7 3-1-0-5-3/\\nX HS201/ GE108 Economics/Basic Electronics\\n(2-2/3-2-13/3-3)\\n4 MAXXX Program Elective I 3 Credits\\n8 Tinkering Lab / Introduction to [0 -0-3-3/2-1.5]/\\n5 Any extra credits taken under HS GE107/ GE109\\nXXXXX 3 Credits Engineering Products [0 -0-2-1-1]\\nElective/Program Elective/Science Maths Elective\\nTOTAL CREDITS 19 or 19.5\\nTotal Credits 15 Credits\\nSemester 5\\nSemester 8\\nS.No Cou rse Code Course Description L-T-P-S-C\\nS.No. Co urse Code Course Description L-T-P-S-C\\n1 ME 206 Manufacturing Techno logy-I 3-1-0-5-3\\n. 2 ME207 Manufacturing Lab-I 0-0-4-2-2\\n1 CP303 Capstone Project II 0-0-6-3-3\\n3 ME301 Vibrations and Control 3-1-0-5-3\\nELECTIVE C OURSES\\n4 ME302 Heat and Mass Transfer 3-1-0-5-3\\n2 An English Language/Literature ele ctive course in\\n5 ME 303 Thermo-Fluids Lab-I 0-0-2-1-1\\nHSXXX either 7th or 8th sem for students who had 3 Credits\\n“English Language Skills” in 1st Semester\\n6\\nHS202 / BM101\\nHuman Geography and Societal Needs / [1-1/3-4-11/3- 3]/\\nBiology for Engineers [3-1-0-5-3]\\n3 BMXXX/MAXXX\\n7 Industrial Management / Introduction to\\n/CYXXX/PHXX Science Maths Elective II 3 Credits HS301 / GE111 3-1-0-5-3\\nEnvironmental Science & Engineering\\nX\\n8 HS104 Professional Ethics[about 50% students] 1-1/3-1-13/6-1 .5\\n4 MAXXX Program Elective II 3 Credits\\nTOTAL CREDITS 18 or 19.5\\n5 Any extra credits taken under HS\\nXXXXX 3 Credits\\nElective/Program Elective/Science Maths Elective\\nTotal Credits 15 Credits\\nS emester 6\\nXXXXX denotes Open Elective Course. S.No. Course Code Course Description L-T-P-S-C\\n1 ME304 Machine Design 3-1-0-5-3\\nGrand Total: 145 2 ME305 Manufacturing Technology-II 3-1-0-5-3\\nPlease Note: Contents of all the courses are available on www.iitrpr.ac.in as Course 3 ME306 Design Lab-II 0-0-3-1.5-1.5\\nbooklet of UG 202 1-22. 4 ME307 Thermo-Fluids Lab-II 0-0-3-1.5-1.5\\n5 ME308 Manufacturing Lab-II 0-0-4-2-2\\n2.7.6 B.Tech. in Mecha nical Engineering 6 CP301 Development EngineeringProject 0-0-6-3-3\\n7 Industrial Management / Introduction to\\nS emester 3\\nHS301 / GE111 3-1-0-5-3\\nEnvironmental Science & Engineering\\nS.No. Course Code Course Description L-T-P-S-C\\n8 HS104 Professional Ethics[about 50% students] 1-1/3-1-13/6-1.5\\n1 ME102 Engineering Thermodynamics 3-1-0-5-3\\nTOTAL CREDITS 17 or 18.5\\n2 ME201 Solid Mechanics 3-1-0-5-3\\n3 ME202 Machine Drawing 0-0-4-2-2\\nSummer Vacation following Semester 6\\n4 GE201 Introduction to Materials Science and\\nS.No Course Code Course Description L-T-P-S-C\\nEngineering 3-1-0-5-3\\n.Semester 7\\nS em ester 4\\nS.No Course Code Course Description L-T-P-S-C\\nS.No. Course Code Course Description L-T-P-S-C\\n. 1 ME203 Theory of Machines 3-1-0-5-3\\n1 CP302 Capstone Project I 0-0-6-3-3\\n2 ME204 Fluid Mechanics 3-1-0-5-3\\nELECTIVE COURSES\\n3 ME205 Design Lab-I 0-0-4-2-2\\n2 An English Language/Literatureelective course in\\n4 MA202 Probability and Statistics 3-1-0-5-3\\nHSXXX either 7th or 8th sem for students who had 3 Credits\\n5 Human Geography and Societal Needs / [1-1/3-4-11/3-3]/\\n“English Language Skills” in 1st Semester HS202 / BM101\\nBiology for Engineers [3-1-0-5-3]\\n3 BMXXX/MAXXX\\n6 NCIV/NOIV/NSIV NCC/NSO/NSS 0 -0-2-1-1\\n/CYXXX/PHXX Science Maths Elective I 3 Credits\\n7 3-1-0-5-3/\\nX HS201/ GE108 Economics/Basic Electronics\\n(2-2/3-2-13/3-3)\\n4 MAXXX Program Elective I 3 Credits\\n8 Tinkering Lab / Introduction to [0 -0-3-3/2-1.5]/\\n5 Any extra credits taken under HS GE107/ GE109\\nXXXXX 3 Credits Engineering Products [0 -0-2-1-1]\\nElective/Program Elective/Science Maths Elective\\nTOTAL CREDITS 19 or 19.5\\nTotal Credits 15 Credits\\nSemester 5\\nSemester 8\\nS.No Cou rse Code Course Description L-T-P-S-C\\nS.No. Co urse Code Course Description L-T-P-S-C\\n1 ME 206 Manufacturing Techno logy-I 3-1-0-5-3\\n. 2 ME207 Manufacturing Lab-I 0-0-4-2-2\\n1 CP303 Capstone Project II 0-0-6-3-3\\n3 ME301 Vibrations and Control 3-1-0-5-3\\nELECTIVE C OURSES\\n4 ME302 Heat and Mass Transfer 3-1-0-5-3\\n2 An English Language/Literature ele ctive course in\\n5 ME 303 Thermo-Fluids Lab-I 0-0-2-1-1\\nHSXXX either 7th or 8th sem for students who had 3 Credits\\n“English Language Skills” in 1st Semester\\n6\\nHS202 / BM101\\nHuman Geography and Societal Needs / [1-1/3-4-11/3- 3]/\\nBiology for Engineers [3-1-0-5-3]\\n3 BMXXX/MAXXX\\n7 Industrial Management / Introduction to\\n/CYXXX/PHXX Science Maths Elective II 3 Credits HS301 / GE111 3-1-0-5-3\\nEnvironmental Science & Engineering\\nX\\n8 HS104 Professional Ethics[about 50% students] 1-1/3-1-13/6-1 .5\\n4 MAXXX Program Elective II 3 Credits\\nTOTAL CREDITS 18 or 19.5\\n5 Any extra credits taken under HS\\nXXXXX 3 Credits\\nElective/Program Elective/Science Maths Elective\\nTotal Credits 15 Credits\\nS emester 6\\nXXXXX denotes Open Elective Course. S.No. Course Code Course Description L-T-P-S-C\\n1 ME304 Machine Design 3-1-0-5-3\\nGrand Total: 145 2 ME305 Manufacturing Technology-II 3-1-0-5-3\\nPlease Note: Contents of all the courses are available on www.iitrpr.ac.in as Course 3 ME306 Design Lab-II 0-0-3-1.5-1.5\\nbooklet of UG 202 1-22. 4 ME307 Thermo-Fluids Lab-II 0-0-3-1.5-1.5\\n5 ME308 Manufacturing Lab-II 0-0-4-2-2\\n2.7.6 B.Tech. in Mecha nical Engineering 6 CP301 Development EngineeringProject 0-0-6-3-3\\n7 Industrial Management / Introduction to\\nS emester 3\\nHS301 / GE111 3-1-0-5-3\\nEnvironmental Science & Engineering\\nS.No. Course Code Course Description L-T-P-S-C\\n8 HS104 Professional Ethics[about 50% students] 1-1/3-1-13/6-1.5\\n1 ME102 Engineering Thermodynamics 3-1-0-5-3\\nTOTAL CREDITS 17 or 18.5\\n2 ME201 Solid Mechanics 3-1-0-5-3\\n3 ME202 Machine Drawing 0-0-4-2-2\\nSummer Vacation following Semester 6\\n4 GE201 Introduction to Materials Science and\\nS.No Course Code Course Description L-T-P-S-C\\nEngineering 3-1-0-5-3\\n.Summer Vacation following Semester 6 2. Minimum CGPA required for converting to B.Tech.-M.Tech. Dual degree: 7.0. S.No Course Code Course Description L-T-P-S-C\\n3. Total credits for B.-Tech.-M.Tech. dual degree : 188-192.\\n. 2) Courses\\n1 Industrial Internship and Comprehensive\\nViva Voce (7 0% weightage for 8-week full The first four years of the program are almost identical to the B.Tech. course work. II301 0-0-7-3.5-3.5\\ninternship and 30% for comprehensive viva\\n3) Course credits Requirements\\non program fundamentals)\\na) UG level courses : 139\\nTotal Credits 3.5\\nS emester 7 b) UG/ PG Course/ Project during summer after 7th sem: 6 credits\\nS.No Course Code Course Description L-T-P-S-C c) Minimum PG level elective courses :15 credits\\n. d) Project work: 28-32 credits\\n1 CP302 Capstone Project I 0-0-6-3-3\\n4) Research\\nELECTIVE COURSES\\n2 An English Language/Literature elective course in The last two semesters and one summer terms are devoted entirely to research work. HSXXX either 7th or 8th sem for students who had 3 Credits Students work under a faculty research supervisor on a challenging research\\n“English Language Skills” in 1st Semester problem. Supervisor for project can be assigned to the students before the start of\\n3 BMXXX/MAXXX end- semester exam of 7th semester. Further course details of the programme will be\\n/CYXXX/PHXX Science Maths Elective I 3 Credits decided by Department. X\\n5) Scholarship\\n4 MMXX X Program Elective I 3 Credits\\na) In the fifth year (1st June to 31st May), a scholarship currently at Rs. 12,400 per\\n5 Any extra credits take n under HS\\nXXXXX 3 Credits\\nmonth (as per Govt.of India Norms) will be given subject to a minimum CGPA of 8\\nElective/Program Elective/Science Maths Elective\\nor attaining a valid GATE Score. Total Credits 15 Credits\\nb) If a student opt for conversion to B.Tech –M.Tech (dual degree) then he/she is\\nSemester 8\\neligible to get a scholarship amount of Rs 5000/- per month in the 8th semester\\nS.No Course Code Course Description L-T-P-S-C\\nand subsequently as mentioned above. . 6) Exit degree\\n1 CP303 Capstone Project II 0-0-6-3-3\\nELECTIVE COURSES At the end of 5 year, the student graduates, receiving both B.Tech. and M.Tech. degree\\n2 An English Language/Literature elective course in together, there is no option for early exit with a B.Tech. degree unless the student\\nHSXXX either 7th or 8th sem for students who had 3 Credits performance is so poor that he/she is considered incapable of securing the higher\\n“English Language Skills” in 1st Semester degree. Institute reserves the sole right to make the decision in such cases. 3 BMXXX/MAXXX\\n2.7.9 Course Plan for B.Tech. with Minor\\n/CYXXX/PHXX Science Maths Elective II 3 Credits\\nX Same as that for “Basic B.Tech.\" with Minor coursework (total 15 credits) added and\\n4 MMXXX Program Elective II 3 Credits distributed over four semesters - Semester 5 to 8. 5 Any extra credits taken under HS 2.7.10 GUIDELINES FOR OFFERING OF MINOR PROGRAMME FOR UG STUDENTS\\nXXXXX 3 Credits\\nElective/Program Elective/Science Maths Elective\\ni.Summer Vacation following Semester 6 2. Minimum CGPA required for converting to B.Tech.-M.Tech. Dual degree: 7.0. S.No Course Code Course Description L-T-P-S-C\\n3. Total credits for B.-Tech.-M.Tech. dual degree : 188-192.\\n. 2) Courses\\n1 Industrial Internship and Comprehensive\\nViva Voce (7 0% weightage for 8-week full The first four years of the program are almost identical to the B.Tech. course work. II301 0-0-7-3.5-3.5\\ninternship and 30% for comprehensive viva\\n3) Course credits Requirements\\non program fundamentals)\\na) UG level courses : 139\\nTotal Credits 3.5\\nS emester 7 b) UG/ PG Course/ Project during summer after 7th sem: 6 credits\\nS.No Course Code Course Description L-T-P-S-C c) Minimum PG level elective courses :15 credits\\n. d) Project work: 28-32 credits\\n1 CP302 Capstone Project I 0-0-6-3-3\\n4) Research\\nELECTIVE COURSES\\n2 An English Language/Literature elective course in The last two semesters and one summer terms are devoted entirely to research work. HSXXX either 7th or 8th sem for students who had 3 Credits Students work under a faculty research supervisor on a challenging research\\n“English Language Skills” in 1st Semester problem. Supervisor for project can be assigned to the students before the start of\\n3 BMXXX/MAXXX end- semester exam of 7th semester. Further course details of the programme will be\\n/CYXXX/PHXX Science Maths Elective I 3 Credits decided by Department. X\\n5) Scholarship\\n4 MMXX X Program Elective I 3 Credits\\na) In the fifth year (1st June to 31st May), a scholarship currently at Rs. 12,400 per\\n5 Any extra credits take n under HS\\nXXXXX 3 Credits\\nmonth (as per Govt.of India Norms) will be given subject to a minimum CGPA of 8\\nElective/Program Elective/Science Maths Elective\\nor attaining a valid GATE Score. Total Credits 15 Credits\\nb) If a student opt for conversion to B.Tech –M.Tech (dual degree) then he/she is\\nSemester 8\\neligible to get a scholarship amount of Rs 5000/- per month in the 8th semester\\nS.No Course Code Course Description L-T-P-S-C\\nand subsequently as mentioned above. . 6) Exit degree\\n1 CP303 Capstone Project II 0-0-6-3-3\\nELECTIVE COURSES At the end of 5 year, the student graduates, receiving both B.Tech. and M.Tech. degree\\n2 An English Language/Literature elective course in together, there is no option for early exit with a B.Tech. degree unless the student\\nHSXXX either 7th or 8th sem for students who had 3 Credits performance is so poor that he/she is considered incapable of securing the higher\\n“English Language Skills” in 1st Semester degree. Institute reserves the sole right to make the decision in such cases. 3 BMXXX/MAXXX\\n2.7.9 Course Plan for B.Tech. with Minor\\n/CYXXX/PHXX Science Maths Elective II 3 Credits\\nX Same as that for “Basic B.Tech.\" with Minor coursework (total 15 credits) added and\\n4 MMXXX Program Elective II 3 Credits distributed over four semesters - Semester 5 to 8. 5 Any extra credits taken under HS 2.7.10 GUIDELINES FOR OFFERING OF MINOR PROGRAMME FOR UG STUDENTS\\nXXXXX 3 Credits\\nElective/Program Elective/Science Maths Elective\\ni.'"
            ],
            "application/vnd.google.colaboratory.intrinsic+json": {
              "type": "string"
            }
          },
          "metadata": {},
          "execution_count": 67
        }
      ]
    }
  ]
}