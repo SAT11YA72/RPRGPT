{
  "nbformat": 4,
  "nbformat_minor": 0,
  "metadata": {
    "colab": {
      "provenance": []
    },
    "kernelspec": {
      "name": "python3",
      "display_name": "Python 3"
    },
    "language_info": {
      "name": "python"
    }
  },
  "cells": [
    {
      "cell_type": "code",
      "source": [
        "##Installing sentence-transformers library which contains vector embedding models.\n",
        "!pip install sentence-transformers"
      ],
      "metadata": {
        "colab": {
          "base_uri": "https://localhost:8080/"
        },
        "id": "Yjz5ZFljGN08",
        "outputId": "67c03a9e-4bbc-4a39-e401-6a8212837f89"
      },
      "execution_count": 19,
      "outputs": [
        {
          "output_type": "stream",
          "name": "stdout",
          "text": [
            "Collecting sentence-transformers\n",
            "  Downloading sentence_transformers-3.1.1-py3-none-any.whl.metadata (10 kB)\n",
            "Requirement already satisfied: transformers<5.0.0,>=4.38.0 in /usr/local/lib/python3.10/dist-packages (from sentence-transformers) (4.44.2)\n",
            "Requirement already satisfied: tqdm in /usr/local/lib/python3.10/dist-packages (from sentence-transformers) (4.66.5)\n",
            "Requirement already satisfied: torch>=1.11.0 in /usr/local/lib/python3.10/dist-packages (from sentence-transformers) (2.4.1+cu121)\n",
            "Requirement already satisfied: scikit-learn in /usr/local/lib/python3.10/dist-packages (from sentence-transformers) (1.5.2)\n",
            "Requirement already satisfied: scipy in /usr/local/lib/python3.10/dist-packages (from sentence-transformers) (1.13.1)\n",
            "Requirement already satisfied: huggingface-hub>=0.19.3 in /usr/local/lib/python3.10/dist-packages (from sentence-transformers) (0.24.7)\n",
            "Requirement already satisfied: Pillow in /usr/local/lib/python3.10/dist-packages (from sentence-transformers) (10.4.0)\n",
            "Requirement already satisfied: filelock in /usr/local/lib/python3.10/dist-packages (from huggingface-hub>=0.19.3->sentence-transformers) (3.16.1)\n",
            "Requirement already satisfied: fsspec>=2023.5.0 in /usr/local/lib/python3.10/dist-packages (from huggingface-hub>=0.19.3->sentence-transformers) (2024.6.1)\n",
            "Requirement already satisfied: packaging>=20.9 in /usr/local/lib/python3.10/dist-packages (from huggingface-hub>=0.19.3->sentence-transformers) (24.1)\n",
            "Requirement already satisfied: pyyaml>=5.1 in /usr/local/lib/python3.10/dist-packages (from huggingface-hub>=0.19.3->sentence-transformers) (6.0.2)\n",
            "Requirement already satisfied: requests in /usr/local/lib/python3.10/dist-packages (from huggingface-hub>=0.19.3->sentence-transformers) (2.32.3)\n",
            "Requirement already satisfied: typing-extensions>=3.7.4.3 in /usr/local/lib/python3.10/dist-packages (from huggingface-hub>=0.19.3->sentence-transformers) (4.12.2)\n",
            "Requirement already satisfied: sympy in /usr/local/lib/python3.10/dist-packages (from torch>=1.11.0->sentence-transformers) (1.13.3)\n",
            "Requirement already satisfied: networkx in /usr/local/lib/python3.10/dist-packages (from torch>=1.11.0->sentence-transformers) (3.3)\n",
            "Requirement already satisfied: jinja2 in /usr/local/lib/python3.10/dist-packages (from torch>=1.11.0->sentence-transformers) (3.1.4)\n",
            "Requirement already satisfied: numpy>=1.17 in /usr/local/lib/python3.10/dist-packages (from transformers<5.0.0,>=4.38.0->sentence-transformers) (1.26.4)\n",
            "Requirement already satisfied: regex!=2019.12.17 in /usr/local/lib/python3.10/dist-packages (from transformers<5.0.0,>=4.38.0->sentence-transformers) (2024.9.11)\n",
            "Requirement already satisfied: safetensors>=0.4.1 in /usr/local/lib/python3.10/dist-packages (from transformers<5.0.0,>=4.38.0->sentence-transformers) (0.4.5)\n",
            "Requirement already satisfied: tokenizers<0.20,>=0.19 in /usr/local/lib/python3.10/dist-packages (from transformers<5.0.0,>=4.38.0->sentence-transformers) (0.19.1)\n",
            "Requirement already satisfied: joblib>=1.2.0 in /usr/local/lib/python3.10/dist-packages (from scikit-learn->sentence-transformers) (1.4.2)\n",
            "Requirement already satisfied: threadpoolctl>=3.1.0 in /usr/local/lib/python3.10/dist-packages (from scikit-learn->sentence-transformers) (3.5.0)\n",
            "Requirement already satisfied: MarkupSafe>=2.0 in /usr/local/lib/python3.10/dist-packages (from jinja2->torch>=1.11.0->sentence-transformers) (2.1.5)\n",
            "Requirement already satisfied: charset-normalizer<4,>=2 in /usr/local/lib/python3.10/dist-packages (from requests->huggingface-hub>=0.19.3->sentence-transformers) (3.3.2)\n",
            "Requirement already satisfied: idna<4,>=2.5 in /usr/local/lib/python3.10/dist-packages (from requests->huggingface-hub>=0.19.3->sentence-transformers) (3.10)\n",
            "Requirement already satisfied: urllib3<3,>=1.21.1 in /usr/local/lib/python3.10/dist-packages (from requests->huggingface-hub>=0.19.3->sentence-transformers) (2.2.3)\n",
            "Requirement already satisfied: certifi>=2017.4.17 in /usr/local/lib/python3.10/dist-packages (from requests->huggingface-hub>=0.19.3->sentence-transformers) (2024.8.30)\n",
            "Requirement already satisfied: mpmath<1.4,>=1.1.0 in /usr/local/lib/python3.10/dist-packages (from sympy->torch>=1.11.0->sentence-transformers) (1.3.0)\n",
            "Downloading sentence_transformers-3.1.1-py3-none-any.whl (245 kB)\n",
            "\u001b[2K   \u001b[90m━━━━━━━━━━━━━━━━━━━━━━━━━━━━━━━━━━━━━━━━\u001b[0m \u001b[32m245.3/245.3 kB\u001b[0m \u001b[31m4.1 MB/s\u001b[0m eta \u001b[36m0:00:00\u001b[0m\n",
            "\u001b[?25hInstalling collected packages: sentence-transformers\n",
            "Successfully installed sentence-transformers-3.1.1\n"
          ]
        }
      ]
    },
    {
      "cell_type": "code",
      "source": [
        "from sentence_transformers import SentenceTransformer\n",
        "# Load the model (use 'all-MiniLM-L6-v2' for compact, fast embeddings)\n",
        "model = SentenceTransformer('all-MiniLM-L6-v2')"
      ],
      "metadata": {
        "colab": {
          "base_uri": "https://localhost:8080/"
        },
        "id": "Dh-6Thz4HHep",
        "outputId": "37577c42-47ba-4040-a885-10d07298b27e"
      },
      "execution_count": 41,
      "outputs": [
        {
          "output_type": "stream",
          "name": "stderr",
          "text": [
            "/usr/local/lib/python3.10/dist-packages/transformers/tokenization_utils_base.py:1601: FutureWarning: `clean_up_tokenization_spaces` was not set. It will be set to `True` by default. This behavior will be depracted in transformers v4.45, and will be then set to `False` by default. For more details check this issue: https://github.com/huggingface/transformers/issues/31884\n",
            "  warnings.warn(\n"
          ]
        }
      ]
    },
    {
      "cell_type": "code",
      "source": [
        "##Testing the model for sample text\n",
        "chunked_text = '''The Indian Institute of Technology Ropar is one of the eight IITs set up by the Government of India,\n",
        "Ministry of Human Resource Development (MHRD) in 2008. In keeping with MoE (erstwhile) the spirit\n",
        "of the IIT system, this institute is committed to provide state-of-the-art technical education in a\n",
        "variety of fields, and also to facilitate transmission of knowledge using the latest developments in\n",
        "pedagogy. The Indian Institute of Technology Ropar started functioning from the academic year\n",
        "2008-09 from the campus of IIT Delhi, the mentor institute. The foundation stone laying ceremony\n",
        "was held on 24 February 2009. The Indian Institute of Technology Ropar was registered under the\n",
        "Societies' Registration Act 1860 on 29 July 2009 and later on notified under the Institutes of\n",
        "Technology Act, 1961 vide gazette notification no. 59 of 1961. Now, the Institute has been declared as\n",
        "an Institute of national importance. The Institute shifted to its permanent campus and currently\n",
        "operates from its permanent campus. The permanent campus of IIT Ropar is spread across 501 acres\n",
        "of land located in Rupnagar in the lap of nature at the banks of river Satluj. It has been awarded the 5\n",
        "Star GRIHA (Green Rating for Integrated Habitat Assessment) rating, one of the highest national\n",
        "ratings for Green Buildings.'''\n",
        "\n",
        "##The embeddings are vectors of dimension 384\n",
        "embeddings = model.encode(chunked_text)\n",
        "print(\"Vector Dimension: \",embeddings.shape)\n"
      ],
      "metadata": {
        "colab": {
          "base_uri": "https://localhost:8080/"
        },
        "id": "NN3Y1G85Hqdu",
        "outputId": "c247d433-b707-40ef-f9e0-3982e0a3bc46"
      },
      "execution_count": 46,
      "outputs": [
        {
          "output_type": "stream",
          "name": "stdout",
          "text": [
            "Vector Dimension:  (384,)\n"
          ]
        }
      ]
    },
    {
      "cell_type": "code",
      "source": [
        "print(embeddings.shape)"
      ],
      "metadata": {
        "colab": {
          "base_uri": "https://localhost:8080/"
        },
        "id": "lxyrMbNrIGUy",
        "outputId": "98030730-a163-40a7-8f09-85f6d733cd0a"
      },
      "execution_count": 22,
      "outputs": [
        {
          "output_type": "stream",
          "name": "stdout",
          "text": [
            "(384,)\n"
          ]
        }
      ]
    },
    {
      "cell_type": "code",
      "source": [
        "## Installing pdfplumber library used to extract text from the pdfs\n",
        "!pip install pdfplumber"
      ],
      "metadata": {
        "colab": {
          "base_uri": "https://localhost:8080/"
        },
        "id": "MurBO-dsTWXA",
        "outputId": "8e705694-ef07-4551-f82f-78bd5599629d"
      },
      "execution_count": 23,
      "outputs": [
        {
          "output_type": "stream",
          "name": "stdout",
          "text": [
            "Collecting pdfplumber\n",
            "  Downloading pdfplumber-0.11.4-py3-none-any.whl.metadata (41 kB)\n",
            "\u001b[?25l     \u001b[90m━━━━━━━━━━━━━━━━━━━━━━━━━━━━━━━━━━━━━━━━\u001b[0m \u001b[32m0.0/42.0 kB\u001b[0m \u001b[31m?\u001b[0m eta \u001b[36m-:--:--\u001b[0m\r\u001b[2K     \u001b[90m━━━━━━━━━━━━━━━━━━━━━━━━━━━━━━━━━━━━━━━━\u001b[0m \u001b[32m42.0/42.0 kB\u001b[0m \u001b[31m1.7 MB/s\u001b[0m eta \u001b[36m0:00:00\u001b[0m\n",
            "\u001b[?25hCollecting pdfminer.six==20231228 (from pdfplumber)\n",
            "  Downloading pdfminer.six-20231228-py3-none-any.whl.metadata (4.2 kB)\n",
            "Requirement already satisfied: Pillow>=9.1 in /usr/local/lib/python3.10/dist-packages (from pdfplumber) (10.4.0)\n",
            "Collecting pypdfium2>=4.18.0 (from pdfplumber)\n",
            "  Downloading pypdfium2-4.30.0-py3-none-manylinux_2_17_x86_64.manylinux2014_x86_64.whl.metadata (48 kB)\n",
            "\u001b[2K     \u001b[90m━━━━━━━━━━━━━━━━━━━━━━━━━━━━━━━━━━━━━━━━\u001b[0m \u001b[32m48.5/48.5 kB\u001b[0m \u001b[31m2.9 MB/s\u001b[0m eta \u001b[36m0:00:00\u001b[0m\n",
            "\u001b[?25hRequirement already satisfied: charset-normalizer>=2.0.0 in /usr/local/lib/python3.10/dist-packages (from pdfminer.six==20231228->pdfplumber) (3.3.2)\n",
            "Requirement already satisfied: cryptography>=36.0.0 in /usr/local/lib/python3.10/dist-packages (from pdfminer.six==20231228->pdfplumber) (43.0.1)\n",
            "Requirement already satisfied: cffi>=1.12 in /usr/local/lib/python3.10/dist-packages (from cryptography>=36.0.0->pdfminer.six==20231228->pdfplumber) (1.17.1)\n",
            "Requirement already satisfied: pycparser in /usr/local/lib/python3.10/dist-packages (from cffi>=1.12->cryptography>=36.0.0->pdfminer.six==20231228->pdfplumber) (2.22)\n",
            "Downloading pdfplumber-0.11.4-py3-none-any.whl (59 kB)\n",
            "\u001b[2K   \u001b[90m━━━━━━━━━━━━━━━━━━━━━━━━━━━━━━━━━━━━━━━━\u001b[0m \u001b[32m59.2/59.2 kB\u001b[0m \u001b[31m3.6 MB/s\u001b[0m eta \u001b[36m0:00:00\u001b[0m\n",
            "\u001b[?25hDownloading pdfminer.six-20231228-py3-none-any.whl (5.6 MB)\n",
            "\u001b[2K   \u001b[90m━━━━━━━━━━━━━━━━━━━━━━━━━━━━━━━━━━━━━━━━\u001b[0m \u001b[32m5.6/5.6 MB\u001b[0m \u001b[31m41.7 MB/s\u001b[0m eta \u001b[36m0:00:00\u001b[0m\n",
            "\u001b[?25hDownloading pypdfium2-4.30.0-py3-none-manylinux_2_17_x86_64.manylinux2014_x86_64.whl (2.8 MB)\n",
            "\u001b[2K   \u001b[90m━━━━━━━━━━━━━━━━━━━━━━━━━━━━━━━━━━━━━━━━\u001b[0m \u001b[32m2.8/2.8 MB\u001b[0m \u001b[31m42.9 MB/s\u001b[0m eta \u001b[36m0:00:00\u001b[0m\n",
            "\u001b[?25hInstalling collected packages: pypdfium2, pdfminer.six, pdfplumber\n",
            "Successfully installed pdfminer.six-20231228 pdfplumber-0.11.4 pypdfium2-4.30.0\n"
          ]
        }
      ]
    },
    {
      "cell_type": "code",
      "source": [
        "import pdfplumber\n",
        "\n",
        "def extract_pdf_content(pdf_path):\n",
        "    # Open the PDF\n",
        "    with pdfplumber.open(pdf_path) as pdf:\n",
        "        text_chunks = []\n",
        "        images = []\n",
        "        metadata = []\n",
        "\n",
        "        for page_num, page in enumerate(pdf.pages):\n",
        "            # Extract text\n",
        "            text = page.extract_text()\n",
        "            if text:\n",
        "                text_chunks.append({\n",
        "                    \"text\": text,\n",
        "                    \"page_number\": page_num + 1  ## We are also keeping track of the page no.s\n",
        "                })\n",
        "\n",
        "    return text_chunks\n"
      ],
      "metadata": {
        "id": "adCd-w0FILx2"
      },
      "execution_count": 24,
      "outputs": []
    },
    {
      "cell_type": "code",
      "source": [
        "##Creating text chunks for the UG-Handbook for the year 2021\n",
        "text_chunks = extract_pdf_content(\"/content/IIT-Ropar-UG-Handbook-2021-15.9.21-5-3.pdf\")"
      ],
      "metadata": {
        "id": "SHkBNP9_Tcj-"
      },
      "execution_count": 25,
      "outputs": []
    },
    {
      "cell_type": "code",
      "source": [
        "## An example chunk\n",
        "text_chunks[22]"
      ],
      "metadata": {
        "colab": {
          "base_uri": "https://localhost:8080/"
        },
        "id": "K8RwjldzUoJJ",
        "outputId": "79763928-b378-4a3c-d6d9-4f6e3457167b"
      },
      "execution_count": 31,
      "outputs": [
        {
          "output_type": "execute_result",
          "data": {
            "text/plain": [
              "{'text': \"2.4.4 Credit Limits paced programme (as defined later), then the maximum permissible number of\\nregistered semesters shall be increased by two semesters.\\nThe following credit limits may be adopted:\\n(d) A student who is not able to complete the CGPA requirement of 5.00 for the award of\\n(i) B.Tech. :19.5 Credits per semester\\ndegree, after the stipulated maximum period of 6 years, can be offered to improve the\\n(ii) B.Tech. with Minor : 22.5 credits per semester\\ncourses / project(s) where he/she has secured a “D” grade to arrive at the CGPA of 5.00\\n(iii) B.Tech. with Minor, Concentration, Honors, additional internship and 6-month\\nfor the award of degree to him/her.\\ninternship in 8th sem: 24 Credits per semester\\n2.5.2 Conditions for Termination of Registration, Probation and Warning\\n2.4.5 CGPA Requirement for Minor, Concentration, Honors, additional internship and\\nIf the performance at the end of first two registered semesters is very poor, then registration\\n6- Month Internship\\nwill be terminated. If the performance is poor but not very poor, then the student will be given\\nThe minimum CGPA for opting for Minor, Concentration, Honors, additional internship and 6-\\nan option to start afresh. Rules for re-start/termination are given below.\\nMonth internship program is as follows. It is needed to be maintained the required CGPA in\\na) Student will be given a chance to re-start after the first two registered semesters if\\norder to remain enrolled to the Minor, Concentration, Honors, additional internship and 6-\\nhis/her total number of earned credits is less than or equal to 17 at the end of the\\nMonth Internship program.\\nsecond semester.\\ni) Minor Programme : 7.00 CGPA\\nb) If a student re-starts after the first two registered semesters, then his/her credits\\nii) Concentration Programme: 7.00 CGPA\\nearned and semesters registered will not be carried over. The re-start will be indicated\\niii) Additional Internship: 6.00 CGPA\\non the transcript. The re-start will be permitted only once. If at the end of first\\niv) Honours: 7.50 CGPA academic year after re-start, the earned credits are less than or equal to 17 then the\\n2.4.6 Minimum CGPA for award of B. Tech. Degree registration will be terminated.\\nThe minimum CGPA for award of the B. Tech. degree is 5.0 c) Each student is expected to earn at least 9 credits in the first registered semester and\\n10.5 credits in each subsequent registered semester with an SGPA greater than or\\n2.4.7 Special Requirements\\nequal to 5.0. If the performance of a student at the end of the any registered semester\\nCommunication Skills\\nis below this minimum acceptable level, then he/she will be placed on probation and a\\nEvery student will be required to make presentations in various courses and if the\\nwarning shall be given to him/her and intimation sent to the parents also.\\nDepartment so feels, the student can be asked to take a regular course on this aspect for\\nd) The student placed on probation shall be monitored, including mandatory attendance\\ncredit.\\nin classes, special tutorials and mentoring.\\n2.5 Performance Requirements and Monitoring\\ne) If the performance of a student on probation does not meet the above criterion (c) in\\n2.5.1 Maximum Period for Completing Degree Requirements\\nthe following registered semester, then the student will be permitted to register only if\\nThe maximum permitted duration of each programme is determined in terms of number of the department makes a favorable recommendation. The Head of the Department's\\nregistered regular semesters, herein after called registered semesters. Any semester in recommendation shall be prepared after consultation with the student, and will\\nwhich a student has registered for a course will be called registered semester subject to the include (i) feasibility of completing the degree requirements, and (ii) identification or\\nfollowing: remedial measures for the problems leading to poor performance.\\n(a) Only the first and second semesters of an academic year can be registered semesters. f) The registration of any student is limited to 1.25 times the average earned credits of\\nThe summer semester will not be considered as a registered semester. the previous two semesters, subject to a minimum of 8 credits and a maximum of 19.5\\n(b) A semester when a student has been granted withdrawal or granted leave will not be credits.\\nconsidered as a registered semester. 2.5.3 Slow-paced Programme\\n(c) The semester when a student is suspended from the Institute on disciplinary grounds A student who has earned between 18 and 27 credits at the end of the first academic year will\\nwill not be counted towards the number of registered semesters. be eligible to opt for the slow-paced programme. A student opting for such a programme\\nThe summer semesters falling in between the permitted registered semesters shall be shall be\\navailable for earning credits. After the student has registered for the maximum permitted two additional registered semesters for completing degree requirements.\\npermissible number of registered semesters, the subsequent summer semesters will\\nIn the slow paced programme, the upper limit for credits registered in a semester will be 12.5.\\nnot be available for earning credits.\\nA student in this programme is expected to earn at least 8 credits with minimum SGPA 5.0 in\\nThe maximum permissible number of registered semesters for completing all degree any semester, failing which he/she will be issued a warning and placed on probation.\\nrequirements for the B. Tech. degree is twelve (12). If a student opts for the slow-\\n(a) The student placed on probation shall be regularly monitored. Ensuring mandatory\\nIIT ROPAR www.iitrpr.ac.in IIT ROPAR www.iitrpr.ac.in\\n14 15\",\n",
              " 'page_number': 23}"
            ]
          },
          "metadata": {},
          "execution_count": 31
        }
      ]
    },
    {
      "cell_type": "code",
      "source": [
        "len(text_chunks)"
      ],
      "metadata": {
        "colab": {
          "base_uri": "https://localhost:8080/"
        },
        "id": "oJBRTOSNTvxp",
        "outputId": "b0a6e038-4f55-4c9b-8792-97279dcd32b9"
      },
      "execution_count": 30,
      "outputs": [
        {
          "output_type": "execute_result",
          "data": {
            "text/plain": [
              "62"
            ]
          },
          "metadata": {},
          "execution_count": 30
        }
      ]
    },
    {
      "cell_type": "code",
      "source": [
        "!pip install nltk\n",
        "import nltk\n",
        "\n",
        "nltk.download('punkt')"
      ],
      "metadata": {
        "colab": {
          "base_uri": "https://localhost:8080/"
        },
        "id": "QSk_GiLFV4N7",
        "outputId": "9fdb0ad2-6650-454a-97d7-fed0be36f3af"
      },
      "execution_count": 35,
      "outputs": [
        {
          "output_type": "stream",
          "name": "stdout",
          "text": [
            "Requirement already satisfied: nltk in /usr/local/lib/python3.10/dist-packages (3.8.1)\n",
            "Requirement already satisfied: click in /usr/local/lib/python3.10/dist-packages (from nltk) (8.1.7)\n",
            "Requirement already satisfied: joblib in /usr/local/lib/python3.10/dist-packages (from nltk) (1.4.2)\n",
            "Requirement already satisfied: regex>=2021.8.3 in /usr/local/lib/python3.10/dist-packages (from nltk) (2024.9.11)\n",
            "Requirement already satisfied: tqdm in /usr/local/lib/python3.10/dist-packages (from nltk) (4.66.5)\n"
          ]
        },
        {
          "output_type": "stream",
          "name": "stderr",
          "text": [
            "[nltk_data] Downloading package punkt to /root/nltk_data...\n",
            "[nltk_data]   Unzipping tokenizers/punkt.zip.\n"
          ]
        },
        {
          "output_type": "execute_result",
          "data": {
            "text/plain": [
              "True"
            ]
          },
          "metadata": {},
          "execution_count": 35
        }
      ]
    },
    {
      "cell_type": "code",
      "source": [
        "''' We are further splitting text chunks into smaller chunks as there is a limit\n",
        "of 512 tokens for the sentence transformer model'''\n",
        "\n",
        "from nltk import tokenize\n",
        "\n",
        "def split_into_chunks(text_chunks, max_length=512):\n",
        "    chunks = []\n",
        "    for item in text_chunks:\n",
        "        page_text = item[\"text\"]\n",
        "        page_num = item[\"page_number\"]\n",
        "        sentences = tokenize.sent_tokenize(page_text)\n",
        "\n",
        "        current_chunk = []\n",
        "        current_length = 0\n",
        "        for sentence in sentences:\n",
        "            if current_length + len(sentence.split()) > max_length:\n",
        "                chunks.append({\n",
        "                    \"text\": \" \".join(current_chunk),\n",
        "                    \"page_number\": page_num\n",
        "                })\n",
        "                current_chunk = []\n",
        "                current_length = 0\n",
        "            current_chunk.append(sentence)\n",
        "            current_length += len(sentence.split())\n",
        "\n",
        "        if current_chunk:  # Add remaining chunk\n",
        "            chunks.append({\n",
        "                \"text\": \" \".join(current_chunk),\n",
        "                \"page_number\": page_num\n",
        "            })\n",
        "\n",
        "    return chunks\n"
      ],
      "metadata": {
        "id": "_KZSrbJlUby_"
      },
      "execution_count": 36,
      "outputs": []
    },
    {
      "cell_type": "code",
      "source": [
        "chunks = split_into_chunks(text_chunks)"
      ],
      "metadata": {
        "id": "593GgGBZVc2W"
      },
      "execution_count": 37,
      "outputs": []
    },
    {
      "cell_type": "code",
      "source": [
        "len(chunks)"
      ],
      "metadata": {
        "colab": {
          "base_uri": "https://localhost:8080/"
        },
        "id": "eGUHG2qrVlMg",
        "outputId": "d8ef24ff-e4b7-4ab2-b923-a3595bee1eae"
      },
      "execution_count": 38,
      "outputs": [
        {
          "output_type": "execute_result",
          "data": {
            "text/plain": [
              "108"
            ]
          },
          "metadata": {},
          "execution_count": 38
        }
      ]
    },
    {
      "cell_type": "code",
      "source": [
        "chunks[22]"
      ],
      "metadata": {
        "colab": {
          "base_uri": "https://localhost:8080/"
        },
        "id": "1WmmYinwV_TP",
        "outputId": "40e1f8b6-6def-4fd8-b98c-6bf1d43cf5ef"
      },
      "execution_count": 40,
      "outputs": [
        {
          "output_type": "execute_result",
          "data": {
            "text/plain": [
              "{'text': \"Audit: A student may apply for changing a credit course to an audit one within one week\\nand Dean (Academics). A student must meet his/her advisor within the first week of the new\\nof the end of the mid semester examination. Audit is not allowed in any 1st year course\\nsemester for the confirmation of his/her registration. The registration record should be\\nand also for any core course. The credit of the courses which are audited will not be\\npreserved until the semester grade card is received. counted in the final degree requirements. Various activities related to registration are listed below. The relevant dates are included in\\nc. Withdrawal: A student who wants to withdraw from a course should apply within one\\nthe Semester Schedule that is available before the start of the semester. week of the end of the mid semester examination. A withdrawal grade (W) will be\\n2.2.2 Registration and Student Status awarded in such cases. Registration by a student confirms his/her status as a student at the Institute. Failure to 2.2.7 Semester Withdrawal\\nregister before the last date for late registration will imply that the student has discontinued\\nIf a student is absent for more than 20 teaching days in a semester on medical grounds,\\nstudies and his/her name will be struck-off the rolls. he/she may apply for withdrawal for that semester, i.e., withdrawal from all courses\\nEvery registered student is considered as a full-time student at the institute. He/She is\\nregistered in that semester. Application for semester withdrawal must be made alongwith\\nexpected to be present in the Institute and devote full time to academics. medical certificate from an authorized doctor not below the rank of MBBS as early as\\n2.2.3 Advice on Courses possible at least before the start of the major tests. Partial withdrawal from the courses\\nAt the time of registration, each student must consult his/her faculty advisor/programme registered in a semester is not allowed. However, in case of un- authorized absence of 20\\ncoordinator to finalize the academic programme keeping in view factors, such as, days in total during the semester, the student would be deem to have withdrawn the\\nminimum/maximum numbers of total and lecture credits, past performance, backlog of semester. Semester fee in such cases will not be refunded or adjusted. courses, SGPA/CGPA, pre-requisite, work load and student's interests, amongst others. 2.2.8 Registration and Fees Payment\\nSpecial Provisions exist for academically weak students. Every registered student must pay the stipulated fees in full before the specified deadlines. In\\nthe event, a student does not make these payments, he/she will not be registered from all\\ncourses and his/her name will be struck-off from the roll list. IIT ROPAR www.iitrpr.ac.in IIT ROPAR www.iitrpr.ac.in\\n08 09\",\n",
              " 'page_number': 16}"
            ]
          },
          "metadata": {},
          "execution_count": 40
        }
      ]
    },
    {
      "cell_type": "code",
      "source": [
        "X = model.encode(chunks[22][\"text\"])"
      ],
      "metadata": {
        "id": "5hoQGaf_WBh9"
      },
      "execution_count": 43,
      "outputs": []
    },
    {
      "cell_type": "code",
      "source": [
        "print(X)\n",
        "print(X.shape)"
      ],
      "metadata": {
        "colab": {
          "base_uri": "https://localhost:8080/"
        },
        "id": "sK8XYOuwWh_h",
        "outputId": "4d7fe7da-8217-4880-db94-e11eb5cc920e"
      },
      "execution_count": 44,
      "outputs": [
        {
          "output_type": "stream",
          "name": "stdout",
          "text": [
            "[-4.65272479e-02 -6.95038913e-03 -6.03071228e-03 -1.72652174e-02\n",
            "  2.19187718e-02  4.41239355e-03 -8.50258861e-03 -5.03521524e-02\n",
            "  1.35569805e-02  1.04894368e-02  1.16084523e-01 -2.21029557e-02\n",
            " -2.60848645e-02  7.82915391e-03 -1.10137075e-01 -4.89584468e-02\n",
            " -4.28248011e-02  1.11074895e-02  5.48803471e-02  5.77247255e-02\n",
            "  2.44236402e-02 -2.41715237e-02 -4.38686684e-02  4.60683666e-02\n",
            "  3.83598469e-02  2.44871564e-02  7.85222556e-03  2.85571232e-03\n",
            "  7.27351382e-03 -5.89773916e-02  5.12437150e-03  9.63542797e-03\n",
            "  1.98383406e-02 -6.50937064e-03  4.75707389e-02 -5.19224405e-02\n",
            "  2.12981384e-02  4.56054471e-02  1.60260759e-02 -4.01435886e-03\n",
            " -6.92785084e-02 -4.86583859e-02  2.69024838e-02  1.25494171e-02\n",
            " -3.79987620e-02 -1.31329941e-02 -4.35030423e-02 -8.38266835e-02\n",
            " -4.00131047e-02  7.63970390e-02 -2.24176105e-02 -2.95484718e-02\n",
            " -9.28411782e-02 -2.19159592e-02 -7.02933744e-02 -9.32630990e-03\n",
            "  1.03644110e-01 -1.24342078e-02 -5.09113632e-02  7.99295492e-03\n",
            " -1.52960867e-02  6.57831430e-02 -7.10265934e-02 -2.80095194e-03\n",
            " -5.93083538e-02  1.95688680e-02  2.08200924e-02 -5.14290333e-02\n",
            "  1.42315075e-01  2.95882430e-02 -5.96260987e-02 -4.77057733e-02\n",
            " -4.27010059e-02 -1.09916367e-02  3.99238244e-02  2.03360599e-02\n",
            "  4.21595126e-02  8.17649141e-02  3.59548107e-02 -1.01687089e-01\n",
            "  3.48065351e-03  6.50810674e-02  3.57667506e-02 -6.39910698e-02\n",
            " -1.42026795e-02 -6.80064410e-02 -1.35003105e-02  3.28106172e-02\n",
            "  1.07512306e-02 -3.67233865e-02  7.91299716e-02  1.41914748e-02\n",
            "  5.92259243e-02 -6.84110671e-02  1.20439433e-01 -3.99663262e-02\n",
            " -4.23208959e-02  3.14099751e-02  1.36360720e-01  2.27311011e-02\n",
            " -6.58550784e-02  4.44243364e-02 -7.41167292e-02 -7.40032084e-03\n",
            " -4.22074646e-03 -4.31487188e-02  4.39229012e-02 -9.48261768e-02\n",
            "  2.48819515e-02 -3.74930203e-02  7.51875490e-02  4.66243215e-02\n",
            "  6.50279745e-02 -3.37295644e-02  7.41767958e-02  1.23349123e-01\n",
            "  5.87099977e-02  4.54535559e-02 -1.01365503e-02  1.00524075e-01\n",
            "  2.02007387e-02  7.46339187e-02  5.98022193e-02 -1.13015518e-01\n",
            " -5.00376262e-02 -6.51163980e-02  2.12355796e-02  4.07286936e-33\n",
            "  4.17606533e-02  4.88803200e-02 -7.36581162e-02  3.97629403e-02\n",
            " -4.76686209e-02 -2.97228228e-02  3.87464836e-02  4.41087596e-02\n",
            "  4.78220098e-02  5.38185611e-02  3.36657800e-02 -3.16889863e-03\n",
            "  9.88247711e-03 -2.79179006e-03  6.99837506e-02 -1.61169115e-02\n",
            "  8.41389820e-02  4.58505331e-03  1.83791779e-02  8.89939442e-02\n",
            "  5.60849868e-02 -1.31696045e-01  4.01209071e-02 -3.49554024e-03\n",
            " -9.35499184e-03  3.60597521e-02 -1.33581888e-02  3.36622074e-02\n",
            " -3.29268142e-03  7.59684830e-04  8.53847787e-02 -4.93830293e-02\n",
            " -1.66489240e-02 -3.31456289e-02  7.65742138e-02  4.71754894e-02\n",
            "  3.17836031e-02  2.16715354e-02  8.98146182e-02 -7.98887461e-02\n",
            "  2.39912774e-02  3.32634225e-02 -1.63313951e-02  9.09744669e-03\n",
            " -2.03818157e-02 -4.71156165e-02  6.36146590e-02 -7.73169938e-03\n",
            "  3.99201885e-02 -2.62194499e-02  1.92593839e-02 -5.11797667e-02\n",
            " -5.21982685e-02 -5.89484088e-02 -5.90209104e-02  4.98622172e-02\n",
            "  3.30046341e-02  1.07394690e-02 -8.39088708e-02 -1.74782462e-02\n",
            "  3.08531355e-02  4.73946892e-02 -3.61465439e-02 -4.21737414e-03\n",
            " -8.60924050e-02 -6.55969828e-02 -7.31322169e-02 -9.20613334e-02\n",
            "  1.27120493e-02 -5.55358045e-02 -1.09040298e-01 -2.03734227e-02\n",
            " -6.08224794e-02 -7.01588020e-02  2.78651174e-02  3.51534374e-02\n",
            "  1.09625710e-02 -3.62584405e-02 -5.02284244e-02  3.58709022e-02\n",
            "  1.03517901e-02  3.63972923e-03 -1.25415493e-02 -6.05038851e-02\n",
            " -2.50602756e-02  2.90692262e-02  5.24834320e-02 -5.13243563e-02\n",
            " -4.11140770e-02  1.55399675e-02  2.22611837e-02  3.61373904e-03\n",
            " -1.24192901e-03  8.04176703e-02  8.65281001e-02 -5.16507663e-33\n",
            "  3.40085737e-02 -4.18350622e-02 -3.68965119e-02 -1.65991709e-02\n",
            "  3.76111502e-03 -4.71197814e-02  3.83094735e-02  8.99886861e-02\n",
            " -5.44544496e-02 -4.74501327e-02  3.66417505e-02 -1.81104080e-03\n",
            " -2.12911330e-02  2.22263057e-02 -1.99381653e-02 -2.35766917e-02\n",
            " -1.45585844e-02  6.12246357e-02 -1.92059185e-02  6.03447296e-02\n",
            "  5.61238490e-02  9.07725543e-02 -1.94155183e-02 -1.83981583e-02\n",
            " -2.81463955e-02  3.07913292e-02  3.16876881e-02  2.00761165e-02\n",
            "  4.31660190e-02 -2.38510990e-03  2.22349577e-02 -3.17473821e-02\n",
            "  2.04912145e-02  1.07486099e-01 -3.86207849e-02 -7.00526088e-02\n",
            "  8.48894939e-03  5.10409251e-02 -9.40401331e-02  1.38664022e-01\n",
            "  4.59770188e-02 -3.98205779e-03  2.37876792e-02 -2.72307917e-02\n",
            "  4.42516506e-02 -1.09129846e-02  7.13344142e-02  6.73316717e-02\n",
            "  2.71215057e-03 -3.65911820e-03 -8.79061371e-02 -3.02941091e-02\n",
            "  5.09908274e-02  2.96628680e-02  6.82535842e-02  6.25435412e-02\n",
            "  3.39200497e-02 -9.61333737e-02 -3.09475586e-02  6.89308718e-02\n",
            "  2.83599515e-02  6.88003795e-03  2.74846498e-02  4.16262448e-02\n",
            "  3.61036547e-02 -8.01192075e-02 -5.48696902e-04  5.18887229e-02\n",
            " -1.81122441e-02  3.63154151e-02 -9.16887634e-03 -1.15019092e-02\n",
            "  4.06931154e-02 -1.06923334e-01 -1.94594264e-02 -1.22012980e-02\n",
            " -3.49259600e-02 -4.61277813e-02 -6.69287816e-02 -6.05506636e-02\n",
            " -7.11596608e-02 -1.14203813e-02 -4.83810529e-02  3.19491662e-02\n",
            "  1.47193915e-03 -9.69914645e-02  6.57742620e-02 -6.26309663e-02\n",
            "  4.21921946e-02 -3.86505052e-02  1.20274816e-02  7.51563488e-03\n",
            "  2.19701622e-02 -1.26323149e-01 -2.12521926e-02 -5.32170183e-08\n",
            " -5.94639368e-02  1.12388125e-02  2.75500473e-02  6.44804314e-02\n",
            "  7.36373737e-02 -3.72347981e-02 -3.99895124e-02 -4.74104062e-02\n",
            "  4.99968370e-03  2.55046841e-02  4.15541790e-02  3.30077708e-02\n",
            " -6.81732967e-03 -8.91899094e-02 -3.80708203e-02  1.06531130e-02\n",
            "  4.40879613e-02 -6.97332481e-03 -5.33079868e-03 -3.41496989e-02\n",
            " -1.16848417e-01 -9.55110639e-02 -7.61715183e-03  3.40997875e-02\n",
            " -7.90333003e-02 -4.31094654e-02  1.29924759e-01  1.28932923e-01\n",
            "  2.40414906e-02 -2.92342994e-03 -2.06220485e-02  2.43628230e-02\n",
            "  1.21119171e-01 -5.17178979e-03 -6.43976778e-02 -3.51535715e-02\n",
            " -2.47970838e-02 -4.37215623e-03  4.02194001e-02  4.07163799e-02\n",
            "  4.07826342e-02 -4.54086773e-02 -4.17512795e-03  4.09423225e-02\n",
            " -6.61179423e-02 -1.31933307e-02 -8.80255252e-02 -1.39326984e-02\n",
            "  7.04059526e-02 -1.14665236e-02 -4.46420424e-02 -2.32834741e-02\n",
            " -3.69791277e-02  3.81825939e-02  4.63488623e-02  3.68231758e-02\n",
            "  2.21148152e-02  1.12258652e-02 -4.21522446e-02 -4.31275591e-02\n",
            "  3.96184102e-02 -1.51703153e-02 -2.09817588e-02 -7.78841451e-02]\n",
            "(384,)\n"
          ]
        }
      ]
    },
    {
      "cell_type": "markdown",
      "source": [
        "# **Storing the embeddings in MongoDB**"
      ],
      "metadata": {
        "id": "5D553QvgZ5tX"
      }
    },
    {
      "cell_type": "code",
      "source": [
        "!pip install pymongo"
      ],
      "metadata": {
        "colab": {
          "base_uri": "https://localhost:8080/"
        },
        "id": "5IQ_YhhhWopF",
        "outputId": "edc4708b-d326-43ae-8672-682282a41ed8"
      },
      "execution_count": 48,
      "outputs": [
        {
          "output_type": "stream",
          "name": "stdout",
          "text": [
            "Collecting pymongo\n",
            "  Downloading pymongo-4.10.1-cp310-cp310-manylinux_2_17_x86_64.manylinux2014_x86_64.whl.metadata (22 kB)\n",
            "Collecting dnspython<3.0.0,>=1.16.0 (from pymongo)\n",
            "  Downloading dnspython-2.6.1-py3-none-any.whl.metadata (5.8 kB)\n",
            "Downloading pymongo-4.10.1-cp310-cp310-manylinux_2_17_x86_64.manylinux2014_x86_64.whl (1.4 MB)\n",
            "\u001b[2K   \u001b[90m━━━━━━━━━━━━━━━━━━━━━━━━━━━━━━━━━━━━━━━━\u001b[0m \u001b[32m1.4/1.4 MB\u001b[0m \u001b[31m18.7 MB/s\u001b[0m eta \u001b[36m0:00:00\u001b[0m\n",
            "\u001b[?25hDownloading dnspython-2.6.1-py3-none-any.whl (307 kB)\n",
            "\u001b[2K   \u001b[90m━━━━━━━━━━━━━━━━━━━━━━━━━━━━━━━━━━━━━━━━\u001b[0m \u001b[32m307.7/307.7 kB\u001b[0m \u001b[31m17.8 MB/s\u001b[0m eta \u001b[36m0:00:00\u001b[0m\n",
            "\u001b[?25hInstalling collected packages: dnspython, pymongo\n",
            "Successfully installed dnspython-2.6.1 pymongo-4.10.1\n"
          ]
        }
      ]
    },
    {
      "cell_type": "code",
      "source": [
        "from pymongo import MongoClient\n",
        "from google.colab import userdata\n",
        "\n",
        "# Connect to DB\n",
        "client = MongoClient(userdata.get('MongoURI'))\n",
        "# Selecting my database\n",
        "db = client.Cluster0\n",
        "\n",
        "# Defining the JSON schema\n",
        "academic_schema = {\n",
        "    \"bsonType\": \"object\",\n",
        "    \"required\": [\"title\", \"page_number\", \"text\", \"vector\"],\n",
        "    \"properties\": {\n",
        "        \"title\": {\n",
        "            \"bsonType\": \"string\",\n",
        "            \"description\": \"must be a string and is required\"\n",
        "        },\n",
        "        \"page_number\": {\n",
        "            \"bsonType\": \"int\",\n",
        "            \"minimum\": 1,\n",
        "            \"description\": \"must be an integer and at least 18\"\n",
        "        },\n",
        "        \"text\": {\n",
        "            \"bsonType\": \"string\",\n",
        "            \"description\": \"must be a string and is required\"\n",
        "        },\n",
        "        \"vector\": {\n",
        "            \"bsonType\": \"array\",\n",
        "            \"description\": \"must be an array of numbers and is required\"\n",
        "        }\n",
        "    }\n",
        "}\n",
        "\n",
        "# Create the collection with schema validation\n",
        "db.create_collection(\"academics\", validator={\"$jsonSchema\": academic_schema})"
      ],
      "metadata": {
        "colab": {
          "base_uri": "https://localhost:8080/"
        },
        "id": "xw8G3TCydfsG",
        "outputId": "cfabbcc9-7058-40ef-c7df-455eca4bc380"
      },
      "execution_count": 75,
      "outputs": [
        {
          "output_type": "execute_result",
          "data": {
            "text/plain": [
              "Collection(Database(MongoClient(host=['cluster0-shard-00-00.d0bev.mongodb.net:27017', 'cluster0-shard-00-02.d0bev.mongodb.net:27017', 'cluster0-shard-00-01.d0bev.mongodb.net:27017'], document_class=dict, tz_aware=False, connect=True, retrywrites=True, w='majority', appname='Cluster0', authsource='admin', replicaset='atlas-e35slv-shard-0', tls=True), 'Cluster0'), 'academics')"
            ]
          },
          "metadata": {},
          "execution_count": 75
        }
      ]
    },
    {
      "cell_type": "code",
      "source": [
        "def push_vectors_to_db(chunks, title):\n",
        "    for chunk in chunks:\n",
        "      try:\n",
        "        db.academics.insert_one({\n",
        "          \"title\": title,\n",
        "          \"page_number\": chunk[\"page_number\"],\n",
        "          \"text\": chunk[\"text\"],\n",
        "          \"vector\": model.encode(chunk[\"text\"]).tolist()\n",
        "        })\n",
        "        print(\"vector inserted successfully\")\n",
        "      except Exception as e:\n",
        "        print(f\"Error inserting document: {e}\")\n"
      ],
      "metadata": {
        "id": "GdqNoywjrqSs"
      },
      "execution_count": 83,
      "outputs": []
    },
    {
      "cell_type": "markdown",
      "source": [
        "## Pushing vectors of 2021 UG Handbook into the Database"
      ],
      "metadata": {
        "id": "GYPo8FTUwVy7"
      }
    },
    {
      "cell_type": "code",
      "source": [
        "push_vectors_to_db(chunks, \"UG2021\")"
      ],
      "metadata": {
        "colab": {
          "base_uri": "https://localhost:8080/"
        },
        "id": "aCaXWQLRuWcu",
        "outputId": "ff95bd9c-eb7c-4bd7-b0ac-ca1463b57a59"
      },
      "execution_count": 84,
      "outputs": [
        {
          "output_type": "stream",
          "name": "stdout",
          "text": [
            "vector inserted successfully\n",
            "vector inserted successfully\n",
            "vector inserted successfully\n",
            "vector inserted successfully\n",
            "vector inserted successfully\n",
            "vector inserted successfully\n",
            "vector inserted successfully\n",
            "vector inserted successfully\n",
            "vector inserted successfully\n",
            "vector inserted successfully\n",
            "vector inserted successfully\n",
            "vector inserted successfully\n",
            "vector inserted successfully\n",
            "vector inserted successfully\n",
            "vector inserted successfully\n",
            "vector inserted successfully\n",
            "vector inserted successfully\n",
            "vector inserted successfully\n",
            "vector inserted successfully\n",
            "vector inserted successfully\n",
            "vector inserted successfully\n",
            "vector inserted successfully\n",
            "vector inserted successfully\n",
            "vector inserted successfully\n",
            "vector inserted successfully\n",
            "vector inserted successfully\n",
            "vector inserted successfully\n",
            "vector inserted successfully\n",
            "vector inserted successfully\n",
            "vector inserted successfully\n",
            "vector inserted successfully\n",
            "vector inserted successfully\n",
            "vector inserted successfully\n",
            "vector inserted successfully\n",
            "vector inserted successfully\n",
            "vector inserted successfully\n",
            "vector inserted successfully\n",
            "vector inserted successfully\n",
            "vector inserted successfully\n",
            "vector inserted successfully\n",
            "vector inserted successfully\n",
            "vector inserted successfully\n",
            "vector inserted successfully\n",
            "vector inserted successfully\n",
            "vector inserted successfully\n",
            "vector inserted successfully\n",
            "vector inserted successfully\n",
            "vector inserted successfully\n",
            "vector inserted successfully\n",
            "vector inserted successfully\n",
            "vector inserted successfully\n",
            "vector inserted successfully\n",
            "vector inserted successfully\n",
            "vector inserted successfully\n",
            "vector inserted successfully\n",
            "vector inserted successfully\n",
            "vector inserted successfully\n",
            "vector inserted successfully\n",
            "vector inserted successfully\n",
            "vector inserted successfully\n",
            "vector inserted successfully\n",
            "vector inserted successfully\n",
            "vector inserted successfully\n",
            "vector inserted successfully\n",
            "vector inserted successfully\n",
            "vector inserted successfully\n",
            "vector inserted successfully\n",
            "vector inserted successfully\n",
            "vector inserted successfully\n",
            "vector inserted successfully\n",
            "vector inserted successfully\n",
            "vector inserted successfully\n",
            "vector inserted successfully\n",
            "vector inserted successfully\n",
            "vector inserted successfully\n",
            "vector inserted successfully\n",
            "vector inserted successfully\n",
            "vector inserted successfully\n",
            "vector inserted successfully\n",
            "vector inserted successfully\n",
            "vector inserted successfully\n",
            "vector inserted successfully\n",
            "vector inserted successfully\n",
            "vector inserted successfully\n",
            "vector inserted successfully\n",
            "vector inserted successfully\n",
            "vector inserted successfully\n",
            "vector inserted successfully\n",
            "vector inserted successfully\n",
            "vector inserted successfully\n",
            "vector inserted successfully\n",
            "vector inserted successfully\n",
            "vector inserted successfully\n",
            "vector inserted successfully\n",
            "vector inserted successfully\n",
            "vector inserted successfully\n",
            "vector inserted successfully\n",
            "vector inserted successfully\n",
            "vector inserted successfully\n",
            "vector inserted successfully\n",
            "vector inserted successfully\n",
            "vector inserted successfully\n",
            "vector inserted successfully\n",
            "vector inserted successfully\n",
            "vector inserted successfully\n",
            "vector inserted successfully\n",
            "vector inserted successfully\n",
            "vector inserted successfully\n"
          ]
        }
      ]
    }
  ]
}